{
 "cells": [
  {
   "cell_type": "code",
   "execution_count": 2,
   "metadata": {},
   "outputs": [],
   "source": [
    "from schelling_model import SchellingModel\n",
    "from gif_tool import GifTool\n",
    "from IPython.display import Image, display\n",
    "from matplotlib import colors"
   ]
  },
  {
   "cell_type": "markdown",
   "metadata": {
    "pycharm": {
     "name": "#%% md\n"
    }
   },
   "source": [
    "## My imprvements"
   ]
  },
  {
   "cell_type": "code",
   "execution_count": 3,
   "metadata": {
    "pycharm": {
     "name": "#%%\n"
    }
   },
   "outputs": [
    {
     "name": "stdout",
     "output_type": "stream",
     "text": [
      "size=100, range=4, agents=(1000, 1000, 1000, 2000), j_t=(0.51, 0.51, 0.5, 0.5), 50 iterations\n"
     ]
    }
   ],
   "source": [
    "size = 100\n",
    "neighbourhood_range = 4\n",
    "agents = (1000, 1000, 1000, 2000)\n",
    "j_t = (0.51, 0.51, 0.5, 0.5)\n",
    "gif_tool = GifTool(cmap=colors.ListedColormap(['white','red','green','blue','pink']), bounds=[-.5, .5, 1.5, 2.5, 3.5, 4.5])\n",
    "model = SchellingModel(size=size, neighbourhood_range=neighbourhood_range, n_agents=agents, j_t=j_t, gif_tool=gif_tool)\n",
    "it = model.play(50)\n",
    "gif_tool.save_gif('improvement.gif', duration=1)\n",
    "print(f'size={size}, range={neighbourhood_range}, agents={agents}, j_t={j_t}, {it} iterations')"
   ]
  },
  {
   "cell_type": "code",
   "execution_count": 4,
   "metadata": {
    "pycharm": {
     "name": "#%%\n"
    }
   },
   "outputs": [
    {
     "data": {
      "text/html": [
       "<img src=\"data/gif/improvement.gif\"/>"
      ],
      "text/plain": [
       "<IPython.core.display.Image object>"
      ]
     },
     "metadata": {},
     "output_type": "display_data"
    }
   ],
   "source": [
    "display(Image(url='data/gif/improvement.gif'))"
   ]
  },
  {
   "cell_type": "markdown",
   "metadata": {
    "pycharm": {
     "name": "#%% md\n"
    }
   },
   "source": [
    "## Quick example"
   ]
  },
  {
   "cell_type": "code",
   "execution_count": 18,
   "metadata": {
    "pycharm": {
     "name": "#%%\n"
    }
   },
   "outputs": [
    {
     "name": "stdout",
     "output_type": "stream",
     "text": [
      "size=100, range=4, agents=(3000, 3000), j_t=(0.51, 0.51), 14 iterations\n"
     ]
    }
   ],
   "source": [
    "size = 100\n",
    "neighbourhood_range = 4\n",
    "agents = (3000, 3000)\n",
    "j_t = (0.51, 0.51)\n",
    "gif_tool = GifTool()\n",
    "model = SchellingModel(size=size, neighbourhood_range=neighbourhood_range, n_agents=agents, j_t=j_t, gif_tool=gif_tool)\n",
    "it = model.play(50)\n",
    "gif_tool.save_gif('example.gif', duration=1)\n",
    "print(f'size={size}, range={neighbourhood_range}, agents={agents}, j_t={j_t}, {it} iterations')"
   ]
  },
  {
   "cell_type": "code",
   "execution_count": 17,
   "metadata": {
    "pycharm": {
     "name": "#%%\n"
    }
   },
   "outputs": [
    {
     "data": {
      "text/html": [
       "<img src=\"data/gif/example.gif\"/>"
      ],
      "text/plain": [
       "<IPython.core.display.Image object>"
      ]
     },
     "metadata": {},
     "output_type": "display_data"
    }
   ],
   "source": [
    "display(Image(url='data/gif/example.gif'))"
   ]
  },
  {
   "cell_type": "code",
   "execution_count": 22,
   "metadata": {
    "pycharm": {
     "name": "#%%\n"
    }
   },
   "outputs": [
    {
     "name": "stdout",
     "output_type": "stream",
     "text": [
      "size=100, range=2, agents=(2000, 2000), j_t=(0.7, 0.7), 19 iterations\n"
     ]
    }
   ],
   "source": [
    "size = 100\n",
    "neighbourhood_range = 2\n",
    "agents = (2000, 2000)\n",
    "j_t = (0.7, 0.7)\n",
    "gif_tool = GifTool()\n",
    "model = SchellingModel(size=size, neighbourhood_range=neighbourhood_range, n_agents=agents, j_t=j_t, gif_tool=gif_tool)\n",
    "it = model.play(50)\n",
    "gif_tool.save_gif('example1.gif', duration=1)\n",
    "print(f'size={size}, range={neighbourhood_range}, agents={agents}, j_t={j_t}, {it} iterations')"
   ]
  },
  {
   "cell_type": "code",
   "execution_count": 21,
   "metadata": {
    "pycharm": {
     "name": "#%%\n"
    }
   },
   "outputs": [
    {
     "data": {
      "text/html": [
       "<img src=\"data/gif/example1.gif\"/>"
      ],
      "text/plain": [
       "<IPython.core.display.Image object>"
      ]
     },
     "metadata": {},
     "output_type": "display_data"
    }
   ],
   "source": [
    "display(Image(url='data/gif/example1.gif'))"
   ]
  },
  {
   "cell_type": "markdown",
   "metadata": {
    "pycharm": {
     "name": "#%% md\n"
    }
   },
   "source": [
    "## required: N=500 (Nr=Nb) with jr=jb=0.5  and mt=8."
   ]
  },
  {
   "cell_type": "code",
   "execution_count": 23,
   "metadata": {
    "pycharm": {
     "name": "#%%\n"
    }
   },
   "outputs": [
    {
     "name": "stdout",
     "output_type": "stream",
     "text": [
      "size=100, range=1, agents=(250, 250), j_t=(0.5, 0.5), 2 iterations\n"
     ]
    }
   ],
   "source": [
    "size = 100\n",
    "neighbourhood_range = 1\n",
    "agents = (250, 250)\n",
    "j_t = (0.5, 0.5)\n",
    "gif_tool = GifTool()\n",
    "model = SchellingModel(size=size, neighbourhood_range=neighbourhood_range, n_agents=agents, j_t=j_t, gif_tool=gif_tool)\n",
    "it = model.play(50)\n",
    "gif_tool.save_gif('required_1.gif', duration=1)\n",
    "print(f'size={size}, range={neighbourhood_range}, agents={agents}, j_t={j_t}, {it} iterations')"
   ]
  },
  {
   "cell_type": "code",
   "execution_count": 24,
   "metadata": {
    "pycharm": {
     "name": "#%%\n"
    }
   },
   "outputs": [
    {
     "data": {
      "text/html": [
       "<img src=\"data/gif/required_1.gif\"/>"
      ],
      "text/plain": [
       "<IPython.core.display.Image object>"
      ]
     },
     "metadata": {},
     "output_type": "display_data"
    }
   ],
   "source": [
    "display(Image(url='data/gif/required_1.gif'))"
   ]
  },
  {
   "cell_type": "markdown",
   "metadata": {
    "pycharm": {
     "name": "#%% md\n"
    }
   },
   "source": [
    "## required N=8000 (Nr=Nb) with jr=jb=0.5 and mt=8"
   ]
  },
  {
   "cell_type": "code",
   "execution_count": 25,
   "metadata": {
    "pycharm": {
     "name": "#%%\n"
    }
   },
   "outputs": [
    {
     "name": "stdout",
     "output_type": "stream",
     "text": [
      "size=100, range=1, agents=(4000, 4000), j_t=(0.5, 0.5), 14 iterations\n"
     ]
    }
   ],
   "source": [
    "size = 100\n",
    "neighbourhood_range = 1\n",
    "agents = (4000, 4000)\n",
    "j_t = (0.5, 0.5)\n",
    "gif_tool = GifTool()\n",
    "model = SchellingModel(size=size, neighbourhood_range=neighbourhood_range, n_agents=agents, j_t=j_t, gif_tool=gif_tool)\n",
    "it = model.play(50)\n",
    "gif_tool.save_gif('required_2.gif', duration=1)\n",
    "print(f'size={size}, range={neighbourhood_range}, agents={agents}, j_t={j_t}, {it} iterations')"
   ]
  },
  {
   "cell_type": "code",
   "execution_count": 27,
   "metadata": {
    "pycharm": {
     "name": "#%%\n"
    }
   },
   "outputs": [
    {
     "data": {
      "text/html": [
       "<img src=\"data/gif/required_2.gif\"/>"
      ],
      "text/plain": [
       "<IPython.core.display.Image object>"
      ]
     },
     "metadata": {},
     "output_type": "display_data"
    }
   ],
   "source": [
    "display(Image(url='data/gif/required_2.gif'))"
   ]
  },
  {
   "cell_type": "markdown",
   "metadata": {
    "pycharm": {
     "name": "#%% md\n"
    }
   },
   "source": [
    "## required N=8000 (Nr=Nb) with jr=0.75, jb=0.375 and mt=8"
   ]
  },
  {
   "cell_type": "code",
   "execution_count": 28,
   "metadata": {
    "pycharm": {
     "name": "#%%\n"
    }
   },
   "outputs": [
    {
     "name": "stdout",
     "output_type": "stream",
     "text": [
      "size=100, range=1, agents=(4000, 4000), j_t=(0.75, 0.375), 50 iterations\n"
     ]
    }
   ],
   "source": [
    "size = 100\n",
    "neighbourhood_range = 1\n",
    "agents = (4000, 4000)\n",
    "j_t = (0.75, 0.375)\n",
    "gif_tool = GifTool()\n",
    "model = SchellingModel(size=size, neighbourhood_range=neighbourhood_range, n_agents=agents, j_t=j_t, gif_tool=gif_tool)\n",
    "it = model.play(50)\n",
    "gif_tool.save_gif('required_3.gif', duration=1)\n",
    "print(f'size={size}, range={neighbourhood_range}, agents={agents}, j_t={j_t}, {it} iterations')"
   ]
  },
  {
   "cell_type": "code",
   "execution_count": 29,
   "metadata": {
    "pycharm": {
     "name": "#%%\n"
    }
   },
   "outputs": [
    {
     "data": {
      "text/html": [
       "<img src=\"data/gif/required_3.gif\"/>"
      ],
      "text/plain": [
       "<IPython.core.display.Image object>"
      ]
     },
     "metadata": {},
     "output_type": "display_data"
    }
   ],
   "source": [
    "display(Image(url='data/gif/required_3.gif'))"
   ]
  },
  {
   "cell_type": "markdown",
   "metadata": {
    "pycharm": {
     "name": "#%% md\n"
    }
   },
   "source": [
    "## assignment 2"
   ]
  },
  {
   "cell_type": "code",
   "execution_count": 40,
   "metadata": {
    "pycharm": {
     "name": "#%%\n"
    }
   },
   "outputs": [
    {
     "name": "stdout",
     "output_type": "stream",
     "text": [
      "size=100, range=1, agents=(4000, 4000), j_t=(0.5, 0.5), 14 iterations\n"
     ]
    }
   ],
   "source": [
    "size = 100\n",
    "neighbourhood_range = 1\n",
    "agents = (4000, 4000)\n",
    "j_t = (0.5, 0.5)\n",
    "gif_tool = GifTool()\n",
    "model = SchellingModel(size=size, neighbourhood_range=neighbourhood_range, n_agents=agents, j_t=j_t, gif_tool=gif_tool)\n",
    "it = model.play(50)\n",
    "gif_tool.save_gif('test.gif', duration=1)\n",
    "print(f'size={size}, range={neighbourhood_range}, agents={agents}, j_t={j_t}, {it} iterations')"
   ]
  },
  {
   "cell_type": "code",
   "execution_count": 33,
   "metadata": {
    "pycharm": {
     "name": "#%%\n"
    }
   },
   "outputs": [
    {
     "data": {
      "text/html": [
       "<img src=\"data/figs/run1_init.png\"/>"
      ],
      "text/plain": [
       "<IPython.core.display.Image object>"
      ]
     },
     "metadata": {},
     "output_type": "display_data"
    }
   ],
   "source": [
    "display(Image(url='data/figs/run1_init.png'))"
   ]
  },
  {
   "cell_type": "code",
   "execution_count": 34,
   "metadata": {
    "pycharm": {
     "name": "#%%\n"
    }
   },
   "outputs": [
    {
     "data": {
      "text/html": [
       "<img src=\"data/figs/run1_end.png\"/>"
      ],
      "text/plain": [
       "<IPython.core.display.Image object>"
      ]
     },
     "metadata": {},
     "output_type": "display_data"
    }
   ],
   "source": [
    "display(Image(url='data/figs/run1_end.png'))"
   ]
  },
  {
   "cell_type": "code",
   "execution_count": 36,
   "metadata": {
    "pycharm": {
     "name": "#%%\n"
    }
   },
   "outputs": [
    {
     "data": {
      "text/html": [
       "<img src=\"data/figs/run2_init.png\"/>"
      ],
      "text/plain": [
       "<IPython.core.display.Image object>"
      ]
     },
     "metadata": {},
     "output_type": "display_data"
    }
   ],
   "source": [
    "display(Image(url='data/figs/run2_init.png'))"
   ]
  },
  {
   "cell_type": "code",
   "execution_count": 37,
   "metadata": {
    "pycharm": {
     "name": "#%%\n"
    }
   },
   "outputs": [
    {
     "data": {
      "text/html": [
       "<img src=\"data/figs/run2_end.png\"/>"
      ],
      "text/plain": [
       "<IPython.core.display.Image object>"
      ]
     },
     "metadata": {},
     "output_type": "display_data"
    }
   ],
   "source": [
    "display(Image(url='data/figs/run2_end.png'))"
   ]
  },
  {
   "cell_type": "code",
   "execution_count": 38,
   "metadata": {
    "pycharm": {
     "name": "#%%\n"
    }
   },
   "outputs": [
    {
     "data": {
      "text/html": [
       "<img src=\"data/figs/run3_init.png\"/>"
      ],
      "text/plain": [
       "<IPython.core.display.Image object>"
      ]
     },
     "metadata": {},
     "output_type": "display_data"
    }
   ],
   "source": [
    "display(Image(url='data/figs/run3_init.png'))"
   ]
  },
  {
   "cell_type": "code",
   "execution_count": 39,
   "metadata": {
    "pycharm": {
     "name": "#%%\n"
    }
   },
   "outputs": [
    {
     "data": {
      "text/html": [
       "<img src=\"data/figs/run3_end.png\"/>"
      ],
      "text/plain": [
       "<IPython.core.display.Image object>"
      ]
     },
     "metadata": {},
     "output_type": "display_data"
    }
   ],
   "source": [
    "display(Image(url='data/figs/run3_end.png'))"
   ]
  },
  {
   "cell_type": "markdown",
   "metadata": {
    "pycharm": {
     "name": "#%% md\n"
    }
   },
   "source": [
    "## assignment 3"
   ]
  },
  {
   "cell_type": "code",
   "execution_count": 41,
   "metadata": {
    "pycharm": {
     "name": "#%%\n"
    }
   },
   "outputs": [
    {
     "name": "stdout",
     "output_type": "stream",
     "text": [
      "being lonely is happy:\n"
     ]
    },
    {
     "data": {
      "text/html": [
       "<img src=\"data/figs/task3.png\"/>"
      ],
      "text/plain": [
       "<IPython.core.display.Image object>"
      ]
     },
     "metadata": {},
     "output_type": "display_data"
    }
   ],
   "source": [
    "print('being lonely is happy:')\n",
    "display(Image(url='data/figs/task3.png'))"
   ]
  },
  {
   "cell_type": "code",
   "execution_count": 42,
   "metadata": {
    "pycharm": {
     "name": "#%%\n"
    }
   },
   "outputs": [
    {
     "name": "stdout",
     "output_type": "stream",
     "text": [
      "being lonely is not happy ;(:\n"
     ]
    },
    {
     "data": {
      "text/html": [
       "<img src=\"data/figs/task3.png\"/>"
      ],
      "text/plain": [
       "<IPython.core.display.Image object>"
      ]
     },
     "metadata": {},
     "output_type": "display_data"
    }
   ],
   "source": [
    "print('being lonely is not happy ;(:')\n",
    "display(Image(url='data/figs/task3.png'))"
   ]
  },
  {
   "cell_type": "markdown",
   "metadata": {
    "pycharm": {
     "name": "#%% md\n"
    }
   },
   "source": [
    "## TASK 4"
   ]
  },
  {
   "cell_type": "code",
   "execution_count": 5,
   "metadata": {
    "pycharm": {
     "name": "#%%\n"
    }
   },
   "outputs": [
    {
     "name": "stdout",
     "output_type": "stream",
     "text": [
      "being lonely is happy (max 100 iterations):\n"
     ]
    },
    {
     "data": {
      "text/html": [
       "<img src=\"data/figs/task4.png\"/>"
      ],
      "text/plain": [
       "<IPython.core.display.Image object>"
      ]
     },
     "metadata": {},
     "output_type": "display_data"
    }
   ],
   "source": [
    "print('being lonely is happy (max 100 iterations):')\n",
    "display(Image(url='data/figs/task4.png'))"
   ]
  },
  {
   "cell_type": "code",
   "execution_count": 6,
   "metadata": {
    "pycharm": {
     "name": "#%%\n"
    }
   },
   "outputs": [
    {
     "name": "stdout",
     "output_type": "stream",
     "text": [
      "being lonely is happy (max 300 iterations):\n"
     ]
    },
    {
     "data": {
      "text/html": [
       "<img src=\"data/figs/task4_3000_diff.png\"/>"
      ],
      "text/plain": [
       "<IPython.core.display.Image object>"
      ]
     },
     "metadata": {},
     "output_type": "display_data"
    }
   ],
   "source": [
    "print('being lonely is happy (max 300 iterations):')\n",
    "display(Image(url='data/figs/task4_3000_diff.png'))"
   ]
  },
  {
   "cell_type": "code",
   "execution_count": 8,
   "metadata": {
    "pycharm": {
     "name": "#%%\n"
    }
   },
   "outputs": [
    {
     "name": "stdout",
     "output_type": "stream",
     "text": [
      "being lonely is unhappy (max 300 iterations):\n",
      "{0.125: 0.677835830026455, 0.25: 0.6903683917548501, 0.375: 0.7986960097001764, 0.5: 0.8409498401675485, 0.625: 0.9630208994708994, 0.75: 0.993453902116402, 0.875: 0.8750098930776015}\n"
     ]
    },
    {
     "data": {
      "text/html": [
       "<img src=\"data/figs/task4_3000_diff_v2.png\"/>"
      ],
      "text/plain": [
       "<IPython.core.display.Image object>"
      ]
     },
     "metadata": {},
     "output_type": "display_data"
    }
   ],
   "source": [
    "print('being lonely is unhappy (max 300 iterations):')\n",
    "print('{0.125: 0.677835830026455, 0.25: 0.6903683917548501, 0.375: 0.7986960097001764, 0.5: 0.8409498401675485, 0.625: 0.9630208994708994, 0.75: 0.993453902116402, 0.875: 0.8750098930776015}')\n",
    "display(Image(url='data/figs/task4_3000_diff_v2.png'))"
   ]
  },
  {
   "cell_type": "code",
   "execution_count": 3,
   "metadata": {
    "pycharm": {
     "name": "#%%\n"
    }
   },
   "outputs": [
    {
     "name": "stdout",
     "output_type": "stream",
     "text": [
      "being lonely is happy (max 300 iterations), range = 2:\n",
      "{0.04167: 0.5670316020179796, 0.08334: 0.5652553136882181, 0.12501: 0.5700239628608501, 0.16668: 0.5753829188467668, 0.20834999999999998: 0.5803178590087291, 0.25001999999999996: 0.6054571566312682, 0.29169: 0.6266018463120485, 0.33336: 0.6956513923194274, 0.37503: 0.7544931440133033, 0.41669999999999996: 0.8101612772814059, 0.45836999999999994: 0.8679683769583554, 0.50004: 0.9157637761056572, 0.54171: 0.918576286888266, 0.58338: 0.947189439553502, 0.62505: 0.9668946689113357, 0.66672: 0.982696091466404, 0.70839: 0.9854930771581815, 0.75006: 0.9961627279549155, 0.7917299999999999: 0.9978918236606349, 0.8333999999999999: 0.5941626241060209, 0.8750699999999999: 0.5795616027608562, 0.91674: 0.5745319149799671, 0.95841: 0.573515202035392}\n"
     ]
    },
    {
     "data": {
      "text/html": [
       "<img src=\"data/figs/task4_range_2.png\"/>"
      ],
      "text/plain": [
       "<IPython.core.display.Image object>"
      ]
     },
     "metadata": {},
     "output_type": "display_data"
    }
   ],
   "source": [
    "print('being lonely is happy (max 300 iterations), range = 2:')\n",
    "print({0.04167: 0.5670316020179796, 0.08334: 0.5652553136882181, 0.12501: 0.5700239628608501, 0.16668: 0.5753829188467668, 0.20834999999999998: 0.5803178590087291, 0.25001999999999996: 0.6054571566312682, 0.29169: 0.6266018463120485, 0.33336: 0.6956513923194274, 0.37503: 0.7544931440133033, 0.41669999999999996: 0.8101612772814059, 0.45836999999999994: 0.8679683769583554, 0.50004: 0.9157637761056572, 0.54171: 0.918576286888266, 0.58338: 0.947189439553502, 0.62505: 0.9668946689113357, 0.66672: 0.982696091466404, 0.70839: 0.9854930771581815, 0.75006: 0.9961627279549155, 0.7917299999999999: 0.9978918236606349, 0.8333999999999999: 0.5941626241060209, 0.8750699999999999: 0.5795616027608562, 0.91674: 0.5745319149799671, 0.95841: 0.573515202035392})\n",
    "display(Image(url='data/figs/task4_range_2.png'))"
   ]
  },
  {
   "cell_type": "code",
   "execution_count": 4,
   "metadata": {
    "pycharm": {
     "name": "#%%\n"
    }
   },
   "outputs": [
    {
     "name": "stdout",
     "output_type": "stream",
     "text": [
      "being lonely is happy (max 300 iterations)\n"
     ]
    },
    {
     "data": {
      "text/html": [
       "<img src=\"data/figs/task5.png\"/>"
      ],
      "text/plain": [
       "<IPython.core.display.Image object>"
      ]
     },
     "metadata": {},
     "output_type": "display_data"
    }
   ],
   "source": [
    "print('being lonely is happy (max 300 iterations)')\n",
    "display(Image(url='data/figs/task5.png'))"
   ]
  },
  {
   "cell_type": "code",
   "execution_count": 5,
   "metadata": {
    "pycharm": {
     "name": "#%%\n"
    }
   },
   "outputs": [
    {
     "name": "stdout",
     "output_type": "stream",
     "text": [
      "being lonely is happy (max 300 iterations)\n"
     ]
    },
    {
     "data": {
      "text/html": [
       "<img src=\"data/figs/task5_j_067.png\"/>"
      ],
      "text/plain": [
       "<IPython.core.display.Image object>"
      ]
     },
     "metadata": {},
     "output_type": "display_data"
    }
   ],
   "source": [
    "print('being lonely is happy (max 300 iterations)')\n",
    "display(Image(url='data/figs/task5_j_067.png'))"
   ]
  },
  {
   "cell_type": "code",
   "execution_count": null,
   "metadata": {
    "pycharm": {
     "name": "#%%\n"
    }
   },
   "outputs": [],
   "source": []
  }
 ],
 "metadata": {
  "kernelspec": {
   "display_name": "Python 3 (ipykernel)",
   "language": "python",
   "name": "python3"
  },
  "language_info": {
   "codemirror_mode": {
    "name": "ipython",
    "version": 3
   },
   "file_extension": ".py",
   "mimetype": "text/x-python",
   "name": "python",
   "nbconvert_exporter": "python",
   "pygments_lexer": "ipython3",
   "version": "3.10.4"
  }
 },
 "nbformat": 4,
 "nbformat_minor": 1
}
