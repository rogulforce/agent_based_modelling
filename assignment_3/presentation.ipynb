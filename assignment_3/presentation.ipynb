{
 "cells": [
  {
   "cell_type": "code",
   "execution_count": 1,
   "metadata": {
    "collapsed": true
   },
   "outputs": [],
   "source": [
    "from schelling_model import SchellingModel\n",
    "from gif_tool import GifTool\n",
    "from IPython.display import Image, display\n",
    "from matplotlib import colors"
   ]
  },
  {
   "cell_type": "markdown",
   "source": [
    "## My imprvements"
   ],
   "metadata": {
    "collapsed": false,
    "pycharm": {
     "name": "#%% md\n"
    }
   }
  },
  {
   "cell_type": "code",
   "execution_count": 3,
   "outputs": [
    {
     "name": "stdout",
     "output_type": "stream",
     "text": [
      "size=100, range=4, agents=(1000, 1000, 1000, 2000), j_t=(0.51, 0.51, 0.5, 0.5), 50 iterations\n"
     ]
    }
   ],
   "source": [
    "size = 100\n",
    "neighbourhood_range = 4\n",
    "agents = (1000, 1000, 1000, 2000)\n",
    "j_t = (0.51, 0.51, 0.5, 0.5)\n",
    "gif_tool = GifTool(cmap=colors.ListedColormap(['white','red','green','blue','pink']), bounds=[-.5, .5, 1.5, 2.5, 3.5, 4.5])\n",
    "model = SchellingModel(size=size, neighbourhood_range=neighbourhood_range, n_agents=agents, j_t=j_t, gif_tool=gif_tool)\n",
    "it = model.play(50)\n",
    "gif_tool.save_gif('improvement.gif', duration=1)\n",
    "print(f'size={size}, range={neighbourhood_range}, agents={agents}, j_t={j_t}, {it} iterations')"
   ],
   "metadata": {
    "collapsed": false,
    "pycharm": {
     "name": "#%%\n"
    }
   }
  },
  {
   "cell_type": "code",
   "execution_count": 4,
   "outputs": [
    {
     "data": {
      "text/html": "<img src=\"data/gif/improvement.gif\"/>",
      "text/plain": "<IPython.core.display.Image object>"
     },
     "metadata": {},
     "output_type": "display_data"
    }
   ],
   "source": [
    "display(Image(url='data/gif/improvement.gif'))"
   ],
   "metadata": {
    "collapsed": false,
    "pycharm": {
     "name": "#%%\n"
    }
   }
  },
  {
   "cell_type": "markdown",
   "source": [
    "## Quick example"
   ],
   "metadata": {
    "collapsed": false,
    "pycharm": {
     "name": "#%% md\n"
    }
   }
  },
  {
   "cell_type": "code",
   "execution_count": 18,
   "outputs": [
    {
     "name": "stdout",
     "output_type": "stream",
     "text": [
      "size=100, range=4, agents=(3000, 3000), j_t=(0.51, 0.51), 14 iterations\n"
     ]
    }
   ],
   "source": [
    "size = 100\n",
    "neighbourhood_range = 4\n",
    "agents = (3000, 3000)\n",
    "j_t = (0.51, 0.51)\n",
    "gif_tool = GifTool()\n",
    "model = SchellingModel(size=size, neighbourhood_range=neighbourhood_range, n_agents=agents, j_t=j_t, gif_tool=gif_tool)\n",
    "it = model.play(50)\n",
    "gif_tool.save_gif('example.gif', duration=1)\n",
    "print(f'size={size}, range={neighbourhood_range}, agents={agents}, j_t={j_t}, {it} iterations')"
   ],
   "metadata": {
    "collapsed": false,
    "pycharm": {
     "name": "#%%\n"
    }
   }
  },
  {
   "cell_type": "code",
   "source": [
    "display(Image(url='data/gif/example.gif'))"
   ],
   "metadata": {
    "collapsed": false,
    "pycharm": {
     "name": "#%%\n"
    }
   },
   "execution_count": 17,
   "outputs": [
    {
     "data": {
      "text/html": "<img src=\"data/gif/example.gif\"/>",
      "text/plain": "<IPython.core.display.Image object>"
     },
     "metadata": {},
     "output_type": "display_data"
    }
   ]
  },
  {
   "cell_type": "code",
   "execution_count": 22,
   "outputs": [
    {
     "name": "stdout",
     "output_type": "stream",
     "text": [
      "size=100, range=2, agents=(2000, 2000), j_t=(0.7, 0.7), 19 iterations\n"
     ]
    }
   ],
   "source": [
    "size = 100\n",
    "neighbourhood_range = 2\n",
    "agents = (2000, 2000)\n",
    "j_t = (0.7, 0.7)\n",
    "gif_tool = GifTool()\n",
    "model = SchellingModel(size=size, neighbourhood_range=neighbourhood_range, n_agents=agents, j_t=j_t, gif_tool=gif_tool)\n",
    "it = model.play(50)\n",
    "gif_tool.save_gif('example1.gif', duration=1)\n",
    "print(f'size={size}, range={neighbourhood_range}, agents={agents}, j_t={j_t}, {it} iterations')"
   ],
   "metadata": {
    "collapsed": false,
    "pycharm": {
     "name": "#%%\n"
    }
   }
  },
  {
   "cell_type": "code",
   "execution_count": 21,
   "outputs": [
    {
     "data": {
      "text/html": "<img src=\"data/gif/example1.gif\"/>",
      "text/plain": "<IPython.core.display.Image object>"
     },
     "metadata": {},
     "output_type": "display_data"
    }
   ],
   "source": [
    "display(Image(url='data/gif/example1.gif'))"
   ],
   "metadata": {
    "collapsed": false,
    "pycharm": {
     "name": "#%%\n"
    }
   }
  },
  {
   "cell_type": "markdown",
   "source": [
    "## required: N=500 (Nr=Nb) with jr=jb=0.5  and mt=8."
   ],
   "metadata": {
    "collapsed": false,
    "pycharm": {
     "name": "#%% md\n"
    }
   }
  },
  {
   "cell_type": "code",
   "execution_count": 23,
   "outputs": [
    {
     "name": "stdout",
     "output_type": "stream",
     "text": [
      "size=100, range=1, agents=(250, 250), j_t=(0.5, 0.5), 2 iterations\n"
     ]
    }
   ],
   "source": [
    "size = 100\n",
    "neighbourhood_range = 1\n",
    "agents = (250, 250)\n",
    "j_t = (0.5, 0.5)\n",
    "gif_tool = GifTool()\n",
    "model = SchellingModel(size=size, neighbourhood_range=neighbourhood_range, n_agents=agents, j_t=j_t, gif_tool=gif_tool)\n",
    "it = model.play(50)\n",
    "gif_tool.save_gif('required_1.gif', duration=1)\n",
    "print(f'size={size}, range={neighbourhood_range}, agents={agents}, j_t={j_t}, {it} iterations')"
   ],
   "metadata": {
    "collapsed": false,
    "pycharm": {
     "name": "#%%\n"
    }
   }
  },
  {
   "cell_type": "code",
   "execution_count": 24,
   "outputs": [
    {
     "data": {
      "text/html": "<img src=\"data/gif/required_1.gif\"/>",
      "text/plain": "<IPython.core.display.Image object>"
     },
     "metadata": {},
     "output_type": "display_data"
    }
   ],
   "source": [
    "display(Image(url='data/gif/required_1.gif'))"
   ],
   "metadata": {
    "collapsed": false,
    "pycharm": {
     "name": "#%%\n"
    }
   }
  },
  {
   "cell_type": "markdown",
   "source": [
    "## required N=8000 (Nr=Nb) with jr=jb=0.5 and mt=8"
   ],
   "metadata": {
    "collapsed": false,
    "pycharm": {
     "name": "#%% md\n"
    }
   }
  },
  {
   "cell_type": "code",
   "execution_count": 25,
   "outputs": [
    {
     "name": "stdout",
     "output_type": "stream",
     "text": [
      "size=100, range=1, agents=(4000, 4000), j_t=(0.5, 0.5), 14 iterations\n"
     ]
    }
   ],
   "source": [
    "size = 100\n",
    "neighbourhood_range = 1\n",
    "agents = (4000, 4000)\n",
    "j_t = (0.5, 0.5)\n",
    "gif_tool = GifTool()\n",
    "model = SchellingModel(size=size, neighbourhood_range=neighbourhood_range, n_agents=agents, j_t=j_t, gif_tool=gif_tool)\n",
    "it = model.play(50)\n",
    "gif_tool.save_gif('required_2.gif', duration=1)\n",
    "print(f'size={size}, range={neighbourhood_range}, agents={agents}, j_t={j_t}, {it} iterations')"
   ],
   "metadata": {
    "collapsed": false,
    "pycharm": {
     "name": "#%%\n"
    }
   }
  },
  {
   "cell_type": "code",
   "execution_count": 27,
   "outputs": [
    {
     "data": {
      "text/html": "<img src=\"data/gif/required_2.gif\"/>",
      "text/plain": "<IPython.core.display.Image object>"
     },
     "metadata": {},
     "output_type": "display_data"
    }
   ],
   "source": [
    "display(Image(url='data/gif/required_2.gif'))"
   ],
   "metadata": {
    "collapsed": false,
    "pycharm": {
     "name": "#%%\n"
    }
   }
  },
  {
   "cell_type": "markdown",
   "source": [
    "## required N=8000 (Nr=Nb) with jr=0.75, jb=0.375 and mt=8"
   ],
   "metadata": {
    "collapsed": false,
    "pycharm": {
     "name": "#%% md\n"
    }
   }
  },
  {
   "cell_type": "code",
   "execution_count": 28,
   "outputs": [
    {
     "name": "stdout",
     "output_type": "stream",
     "text": [
      "size=100, range=1, agents=(4000, 4000), j_t=(0.75, 0.375), 50 iterations\n"
     ]
    }
   ],
   "source": [
    "size = 100\n",
    "neighbourhood_range = 1\n",
    "agents = (4000, 4000)\n",
    "j_t = (0.75, 0.375)\n",
    "gif_tool = GifTool()\n",
    "model = SchellingModel(size=size, neighbourhood_range=neighbourhood_range, n_agents=agents, j_t=j_t, gif_tool=gif_tool)\n",
    "it = model.play(50)\n",
    "gif_tool.save_gif('required_3.gif', duration=1)\n",
    "print(f'size={size}, range={neighbourhood_range}, agents={agents}, j_t={j_t}, {it} iterations')"
   ],
   "metadata": {
    "collapsed": false,
    "pycharm": {
     "name": "#%%\n"
    }
   }
  },
  {
   "cell_type": "code",
   "execution_count": 29,
   "outputs": [
    {
     "data": {
      "text/html": "<img src=\"data/gif/required_3.gif\"/>",
      "text/plain": "<IPython.core.display.Image object>"
     },
     "metadata": {},
     "output_type": "display_data"
    }
   ],
   "source": [
    "display(Image(url='data/gif/required_3.gif'))"
   ],
   "metadata": {
    "collapsed": false,
    "pycharm": {
     "name": "#%%\n"
    }
   }
  },
  {
   "cell_type": "markdown",
   "source": [
    "## assignment 2"
   ],
   "metadata": {
    "collapsed": false,
    "pycharm": {
     "name": "#%% md\n"
    }
   }
  },
  {
   "cell_type": "code",
   "execution_count": 40,
   "outputs": [
    {
     "name": "stdout",
     "output_type": "stream",
     "text": [
      "size=100, range=1, agents=(4000, 4000), j_t=(0.5, 0.5), 14 iterations\n"
     ]
    }
   ],
   "source": [
    "size = 100\n",
    "neighbourhood_range = 1\n",
    "agents = (4000, 4000)\n",
    "j_t = (0.5, 0.5)\n",
    "gif_tool = GifTool()\n",
    "model = SchellingModel(size=size, neighbourhood_range=neighbourhood_range, n_agents=agents, j_t=j_t, gif_tool=gif_tool)\n",
    "it = model.play(50)\n",
    "gif_tool.save_gif('test.gif', duration=1)\n",
    "print(f'size={size}, range={neighbourhood_range}, agents={agents}, j_t={j_t}, {it} iterations')"
   ],
   "metadata": {
    "collapsed": false,
    "pycharm": {
     "name": "#%%\n"
    }
   }
  },
  {
   "cell_type": "code",
   "execution_count": 33,
   "outputs": [
    {
     "data": {
      "text/html": "<img src=\"data/figs/run1_init.png\"/>",
      "text/plain": "<IPython.core.display.Image object>"
     },
     "metadata": {},
     "output_type": "display_data"
    }
   ],
   "source": [
    "display(Image(url='data/figs/run1_init.png'))"
   ],
   "metadata": {
    "collapsed": false,
    "pycharm": {
     "name": "#%%\n"
    }
   }
  },
  {
   "cell_type": "code",
   "execution_count": 34,
   "outputs": [
    {
     "data": {
      "text/html": "<img src=\"data/figs/run1_end.png\"/>",
      "text/plain": "<IPython.core.display.Image object>"
     },
     "metadata": {},
     "output_type": "display_data"
    }
   ],
   "source": [
    "display(Image(url='data/figs/run1_end.png'))"
   ],
   "metadata": {
    "collapsed": false,
    "pycharm": {
     "name": "#%%\n"
    }
   }
  },
  {
   "cell_type": "code",
   "execution_count": 36,
   "outputs": [
    {
     "data": {
      "text/html": "<img src=\"data/figs/run2_init.png\"/>",
      "text/plain": "<IPython.core.display.Image object>"
     },
     "metadata": {},
     "output_type": "display_data"
    }
   ],
   "source": [
    "display(Image(url='data/figs/run2_init.png'))"
   ],
   "metadata": {
    "collapsed": false,
    "pycharm": {
     "name": "#%%\n"
    }
   }
  },
  {
   "cell_type": "code",
   "execution_count": 37,
   "outputs": [
    {
     "data": {
      "text/html": "<img src=\"data/figs/run2_end.png\"/>",
      "text/plain": "<IPython.core.display.Image object>"
     },
     "metadata": {},
     "output_type": "display_data"
    }
   ],
   "source": [
    "display(Image(url='data/figs/run2_end.png'))"
   ],
   "metadata": {
    "collapsed": false,
    "pycharm": {
     "name": "#%%\n"
    }
   }
  },
  {
   "cell_type": "code",
   "execution_count": 38,
   "outputs": [
    {
     "data": {
      "text/html": "<img src=\"data/figs/run3_init.png\"/>",
      "text/plain": "<IPython.core.display.Image object>"
     },
     "metadata": {},
     "output_type": "display_data"
    }
   ],
   "source": [
    "display(Image(url='data/figs/run3_init.png'))"
   ],
   "metadata": {
    "collapsed": false,
    "pycharm": {
     "name": "#%%\n"
    }
   }
  },
  {
   "cell_type": "code",
   "execution_count": 39,
   "outputs": [
    {
     "data": {
      "text/html": "<img src=\"data/figs/run3_end.png\"/>",
      "text/plain": "<IPython.core.display.Image object>"
     },
     "metadata": {},
     "output_type": "display_data"
    }
   ],
   "source": [
    "display(Image(url='data/figs/run3_end.png'))"
   ],
   "metadata": {
    "collapsed": false,
    "pycharm": {
     "name": "#%%\n"
    }
   }
  },
  {
   "cell_type": "markdown",
   "source": [
    "## assignment 3"
   ],
   "metadata": {
    "collapsed": false,
    "pycharm": {
     "name": "#%% md\n"
    }
   }
  },
  {
   "cell_type": "code",
   "execution_count": 41,
   "outputs": [
    {
     "name": "stdout",
     "output_type": "stream",
     "text": [
      "being lonely is happy:\n"
     ]
    },
    {
     "data": {
      "text/html": "<img src=\"data/figs/task3.png\"/>",
      "text/plain": "<IPython.core.display.Image object>"
     },
     "metadata": {},
     "output_type": "display_data"
    }
   ],
   "source": [
    "print('being lonely is happy:')\n",
    "display(Image(url='data/figs/task3.png'))"
   ],
   "metadata": {
    "collapsed": false,
    "pycharm": {
     "name": "#%%\n"
    }
   }
  },
  {
   "cell_type": "code",
   "execution_count": 42,
   "outputs": [
    {
     "name": "stdout",
     "output_type": "stream",
     "text": [
      "being lonely is not happy ;(:\n"
     ]
    },
    {
     "data": {
      "text/html": "<img src=\"data/figs/task3.png\"/>",
      "text/plain": "<IPython.core.display.Image object>"
     },
     "metadata": {},
     "output_type": "display_data"
    }
   ],
   "source": [
    "print('being lonely is not happy ;(:')\n",
    "display(Image(url='data/figs/task3.png'))"
   ],
   "metadata": {
    "collapsed": false,
    "pycharm": {
     "name": "#%%\n"
    }
   }
  },
  {
   "cell_type": "markdown",
   "source": [
    "## TASK 4"
   ],
   "metadata": {
    "collapsed": false,
    "pycharm": {
     "name": "#%% md\n"
    }
   }
  },
  {
   "cell_type": "code",
   "execution_count": 5,
   "outputs": [
    {
     "name": "stdout",
     "output_type": "stream",
     "text": [
      "being lonely is happy (max 100 iterations):\n"
     ]
    },
    {
     "data": {
      "text/html": "<img src=\"data/figs/task4.png\"/>",
      "text/plain": "<IPython.core.display.Image object>"
     },
     "metadata": {},
     "output_type": "display_data"
    }
   ],
   "source": [
    "print('being lonely is happy (max 100 iterations):')\n",
    "display(Image(url='data/figs/task4.png'))"
   ],
   "metadata": {
    "collapsed": false,
    "pycharm": {
     "name": "#%%\n"
    }
   }
  },
  {
   "cell_type": "code",
   "execution_count": 6,
   "outputs": [
    {
     "name": "stdout",
     "output_type": "stream",
     "text": [
      "being lonely is happy (max 300 iterations):\n"
     ]
    },
    {
     "data": {
      "text/html": "<img src=\"data/figs/task4_3000_diff.png\"/>",
      "text/plain": "<IPython.core.display.Image object>"
     },
     "metadata": {},
     "output_type": "display_data"
    }
   ],
   "source": [
    "print('being lonely is happy (max 300 iterations):')\n",
    "display(Image(url='data/figs/task4_3000_diff.png'))"
   ],
   "metadata": {
    "collapsed": false,
    "pycharm": {
     "name": "#%%\n"
    }
   }
  },
  {
   "cell_type": "code",
   "execution_count": 8,
   "outputs": [
    {
     "name": "stdout",
     "output_type": "stream",
     "text": [
      "being lonely is unhappy (max 300 iterations):\n",
      "{0.125: 0.677835830026455, 0.25: 0.6903683917548501, 0.375: 0.7986960097001764, 0.5: 0.8409498401675485, 0.625: 0.9630208994708994, 0.75: 0.993453902116402, 0.875: 0.8750098930776015}\n"
     ]
    },
    {
     "data": {
      "text/html": "<img src=\"data/figs/task4_3000_diff_v2.png\"/>",
      "text/plain": "<IPython.core.display.Image object>"
     },
     "metadata": {},
     "output_type": "display_data"
    }
   ],
   "source": [
    "print('being lonely is unhappy (max 300 iterations):')\n",
    "print('{0.125: 0.677835830026455, 0.25: 0.6903683917548501, 0.375: 0.7986960097001764, 0.5: 0.8409498401675485, 0.625: 0.9630208994708994, 0.75: 0.993453902116402, 0.875: 0.8750098930776015}')\n",
    "display(Image(url='data/figs/task4_3000_diff_v2.png'))"
   ],
   "metadata": {
    "collapsed": false,
    "pycharm": {
     "name": "#%%\n"
    }
   }
  },
  {
   "cell_type": "code",
   "execution_count": null,
   "outputs": [],
   "source": [],
   "metadata": {
    "collapsed": false,
    "pycharm": {
     "name": "#%%\n"
    }
   }
  }
 ],
 "metadata": {
  "kernelspec": {
   "display_name": "Python 3",
   "language": "python",
   "name": "python3"
  },
  "language_info": {
   "codemirror_mode": {
    "name": "ipython",
    "version": 2
   },
   "file_extension": ".py",
   "mimetype": "text/x-python",
   "name": "python",
   "nbconvert_exporter": "python",
   "pygments_lexer": "ipython2",
   "version": "2.7.6"
  }
 },
 "nbformat": 4,
 "nbformat_minor": 0
}