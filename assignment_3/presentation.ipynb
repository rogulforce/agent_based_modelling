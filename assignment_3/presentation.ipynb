{
 "cells": [
  {
   "cell_type": "code",
   "execution_count": 1,
   "metadata": {
    "collapsed": true
   },
   "outputs": [],
   "source": [
    "from schelling_model import SchellingModel"
   ]
  },
  {
   "cell_type": "code",
   "execution_count": 17,
   "outputs": [
    {
     "name": "stdout",
     "output_type": "stream",
     "text": [
      "[[0. 1. 1. 0. 0.]\n",
      " [0. 0. 2. 0. 0.]\n",
      " [0. 0. 0. 2. 1.]\n",
      " [0. 2. 0. 0. 0.]\n",
      " [2. 1. 0. 0. 0.]]\n",
      "[0, 2] 1.0 True\n",
      "[2, 3] 2.0 True\n",
      "[3, 1] 2.0 True\n",
      "[4, 0] 2.0 True\n",
      "[4, 1] 1.0 True\n",
      "[2, 4] 1.0 True\n",
      "[0, 1] 1.0 True\n",
      "[1, 2] 2.0 True\n",
      "0 iterations\n",
      "[[0. 1. 1. 0. 0.]\n",
      " [0. 0. 2. 0. 0.]\n",
      " [0. 0. 0. 2. 1.]\n",
      " [0. 2. 0. 0. 0.]\n",
      " [2. 1. 0. 0. 0.]]\n"
     ]
    }
   ],
   "source": [
    "a = SchellingModel(size=5, neighbourhood_range=1, n_agents=(4, 4), j_t=(0.5, 0.5))\n",
    "print(a.lattice)\n",
    "a.play(iter_num=10)\n",
    "print(a.lattice)"
   ],
   "metadata": {
    "collapsed": false,
    "pycharm": {
     "name": "#%%\n"
    }
   }
  },
  {
   "cell_type": "code",
   "execution_count": 16,
   "outputs": [
    {
     "name": "stdout",
     "output_type": "stream",
     "text": [
      "0.0\n",
      "False\n"
     ]
    }
   ],
   "source": [
    "print(a.get_happiness((2,2),1))\n",
    "print(a.validate_happiness((2,2),1))"
   ],
   "metadata": {
    "collapsed": false,
    "pycharm": {
     "name": "#%%\n"
    }
   }
  },
  {
   "cell_type": "code",
   "execution_count": 14,
   "outputs": [
    {
     "name": "stdout",
     "output_type": "stream",
     "text": [
      "[(4, 4), (4, 0), (4, 1), (0, 4), (0, 1), (1, 4), (1, 0), (1, 1)]\n"
     ]
    }
   ],
   "source": [
    "print(a.get_neighbours((0,0)))"
   ],
   "metadata": {
    "collapsed": false,
    "pycharm": {
     "name": "#%%\n"
    }
   }
  },
  {
   "cell_type": "code",
   "execution_count": null,
   "outputs": [],
   "source": [],
   "metadata": {
    "collapsed": false,
    "pycharm": {
     "name": "#%%\n"
    }
   }
  }
 ],
 "metadata": {
  "kernelspec": {
   "display_name": "Python 3",
   "language": "python",
   "name": "python3"
  },
  "language_info": {
   "codemirror_mode": {
    "name": "ipython",
    "version": 2
   },
   "file_extension": ".py",
   "mimetype": "text/x-python",
   "name": "python",
   "nbconvert_exporter": "python",
   "pygments_lexer": "ipython2",
   "version": "2.7.6"
  }
 },
 "nbformat": 4,
 "nbformat_minor": 0
}