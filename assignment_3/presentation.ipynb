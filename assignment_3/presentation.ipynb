{
 "cells": [
  {
   "cell_type": "code",
   "execution_count": 13,
   "metadata": {},
   "outputs": [],
   "source": [
    "# Piotr Rogula, 249801\n",
    "from schelling_model import SchellingModel, SchellingModelUnhappy\n",
    "from gif_tool import GifTool\n",
    "from IPython.display import Image, display\n",
    "from matplotlib import colors"
   ]
  },
  {
   "cell_type": "markdown",
   "metadata": {
    "pycharm": {
     "name": "#%% md\n"
    }
   },
   "source": [
    "## My imprvements"
   ]
  },
  {
   "cell_type": "code",
   "execution_count": 2,
   "metadata": {
    "pycharm": {
     "name": "#%%\n"
    }
   },
   "outputs": [
    {
     "name": "stdout",
     "output_type": "stream",
     "text": [
      "size=100, range=4, agents=(1000, 1000, 1000, 2000), j_t=(0.51, 0.51, 0.5, 0.5), 50 iterations\n"
     ]
    }
   ],
   "source": [
    "size = 100\n",
    "neighbourhood_range = 4\n",
    "agents = (1000, 1000, 1000, 2000)\n",
    "j_t = (0.51, 0.51, 0.5, 0.5)\n",
    "gif_tool = GifTool(cmap=colors.ListedColormap(['white','red','green','blue','pink']), bounds=[-.5, .5, 1.5, 2.5, 3.5, 4.5])\n",
    "model = SchellingModel(size=size, neighbourhood_range=neighbourhood_range, n_agents=agents, j_t=j_t, gif_tool=gif_tool)\n",
    "it = model.play(50)\n",
    "gif_tool.save_gif('improvement.gif', duration=1)\n",
    "print(f'size={size}, range={neighbourhood_range}, agents={agents}, j_t={j_t}, {it} iterations')"
   ]
  },
  {
   "cell_type": "code",
   "execution_count": 3,
   "metadata": {
    "pycharm": {
     "name": "#%%\n"
    }
   },
   "outputs": [
    {
     "data": {
      "text/html": [
       "<img src=\"data/gif/improvement.gif\"/>"
      ],
      "text/plain": [
       "<IPython.core.display.Image object>"
      ]
     },
     "metadata": {},
     "output_type": "display_data"
    }
   ],
   "source": [
    "display(Image(url='data/gif/improvement.gif'))"
   ]
  },
  {
   "cell_type": "markdown",
   "metadata": {
    "pycharm": {
     "name": "#%% md\n"
    }
   },
   "source": [
    "## Quick example"
   ]
  },
  {
   "cell_type": "code",
   "execution_count": 4,
   "metadata": {
    "pycharm": {
     "name": "#%%\n"
    }
   },
   "outputs": [
    {
     "name": "stdout",
     "output_type": "stream",
     "text": [
      "size=100, range=4, agents=(3000, 3000), j_t=(0.51, 0.51), 18 iterations\n"
     ]
    }
   ],
   "source": [
    "size = 100\n",
    "neighbourhood_range = 4\n",
    "agents = (3000, 3000)\n",
    "j_t = (0.51, 0.51)\n",
    "gif_tool = GifTool()\n",
    "model = SchellingModel(size=size, neighbourhood_range=neighbourhood_range, n_agents=agents, j_t=j_t, gif_tool=gif_tool)\n",
    "it = model.play(50)\n",
    "gif_tool.save_gif('example.gif', duration=1)\n",
    "print(f'size={size}, range={neighbourhood_range}, agents={agents}, j_t={j_t}, {it} iterations')"
   ]
  },
  {
   "cell_type": "code",
   "execution_count": 5,
   "metadata": {
    "pycharm": {
     "name": "#%%\n"
    }
   },
   "outputs": [
    {
     "data": {
      "text/html": [
       "<img src=\"data/gif/example.gif\"/>"
      ],
      "text/plain": [
       "<IPython.core.display.Image object>"
      ]
     },
     "metadata": {},
     "output_type": "display_data"
    }
   ],
   "source": [
    "display(Image(url='data/gif/example.gif'))"
   ]
  },
  {
   "cell_type": "code",
   "execution_count": 6,
   "metadata": {
    "pycharm": {
     "name": "#%%\n"
    }
   },
   "outputs": [
    {
     "name": "stdout",
     "output_type": "stream",
     "text": [
      "size=100, range=2, agents=(2000, 2000), j_t=(0.7, 0.7), 20 iterations\n"
     ]
    }
   ],
   "source": [
    "size = 100\n",
    "neighbourhood_range = 2\n",
    "agents = (2000, 2000)\n",
    "j_t = (0.7, 0.7)\n",
    "gif_tool = GifTool()\n",
    "model = SchellingModel(size=size, neighbourhood_range=neighbourhood_range, n_agents=agents, j_t=j_t, gif_tool=gif_tool)\n",
    "it = model.play(50)\n",
    "gif_tool.save_gif('example1.gif', duration=1)\n",
    "print(f'size={size}, range={neighbourhood_range}, agents={agents}, j_t={j_t}, {it} iterations')"
   ]
  },
  {
   "cell_type": "code",
   "execution_count": 7,
   "metadata": {
    "pycharm": {
     "name": "#%%\n"
    }
   },
   "outputs": [
    {
     "data": {
      "text/html": [
       "<img src=\"data/gif/example1.gif\"/>"
      ],
      "text/plain": [
       "<IPython.core.display.Image object>"
      ]
     },
     "metadata": {},
     "output_type": "display_data"
    }
   ],
   "source": [
    "display(Image(url='data/gif/example1.gif'))"
   ]
  },
  {
   "cell_type": "markdown",
   "metadata": {
    "pycharm": {
     "name": "#%% md\n"
    }
   },
   "source": [
    "## required: N=500 (Nr=Nb) with jr=jb=0.5  and mt=8."
   ]
  },
  {
   "cell_type": "code",
   "execution_count": 8,
   "metadata": {
    "pycharm": {
     "name": "#%%\n"
    }
   },
   "outputs": [
    {
     "name": "stdout",
     "output_type": "stream",
     "text": [
      "size=100, range=1, agents=(250, 250), j_t=(0.5, 0.5), 3 iterations\n"
     ]
    }
   ],
   "source": [
    "size = 100\n",
    "neighbourhood_range = 1\n",
    "agents = (250, 250)\n",
    "j_t = (0.5, 0.5)\n",
    "gif_tool = GifTool()\n",
    "model = SchellingModel(size=size, neighbourhood_range=neighbourhood_range, n_agents=agents, j_t=j_t, gif_tool=gif_tool)\n",
    "it = model.play(50)\n",
    "gif_tool.save_gif('required_1.gif', duration=1)\n",
    "print(f'size={size}, range={neighbourhood_range}, agents={agents}, j_t={j_t}, {it} iterations')"
   ]
  },
  {
   "cell_type": "code",
   "execution_count": 9,
   "metadata": {
    "pycharm": {
     "name": "#%%\n"
    }
   },
   "outputs": [
    {
     "data": {
      "text/html": [
       "<img src=\"data/gif/required_1.gif\"/>"
      ],
      "text/plain": [
       "<IPython.core.display.Image object>"
      ]
     },
     "metadata": {},
     "output_type": "display_data"
    }
   ],
   "source": [
    "display(Image(url='data/gif/required_1.gif'))"
   ]
  },
  {
   "cell_type": "markdown",
   "metadata": {
    "pycharm": {
     "name": "#%% md\n"
    }
   },
   "source": [
    "## required N=8000 (Nr=Nb) with jr=jb=0.5 and mt=8"
   ]
  },
  {
   "cell_type": "code",
   "execution_count": 10,
   "metadata": {
    "pycharm": {
     "name": "#%%\n"
    }
   },
   "outputs": [
    {
     "name": "stdout",
     "output_type": "stream",
     "text": [
      "size=100, range=1, agents=(4000, 4000), j_t=(0.5, 0.5), 17 iterations\n"
     ]
    }
   ],
   "source": [
    "size = 100\n",
    "neighbourhood_range = 1\n",
    "agents = (4000, 4000)\n",
    "j_t = (0.5, 0.5)\n",
    "gif_tool = GifTool()\n",
    "model = SchellingModel(size=size, neighbourhood_range=neighbourhood_range, n_agents=agents, j_t=j_t, gif_tool=gif_tool)\n",
    "it = model.play(50)\n",
    "gif_tool.save_gif('required_2.gif', duration=1)\n",
    "print(f'size={size}, range={neighbourhood_range}, agents={agents}, j_t={j_t}, {it} iterations')"
   ]
  },
  {
   "cell_type": "code",
   "execution_count": 11,
   "metadata": {
    "pycharm": {
     "name": "#%%\n"
    }
   },
   "outputs": [
    {
     "data": {
      "text/html": [
       "<img src=\"data/gif/required_2.gif\"/>"
      ],
      "text/plain": [
       "<IPython.core.display.Image object>"
      ]
     },
     "metadata": {},
     "output_type": "display_data"
    }
   ],
   "source": [
    "display(Image(url='data/gif/required_2.gif'))"
   ]
  },
  {
   "cell_type": "markdown",
   "metadata": {
    "pycharm": {
     "name": "#%% md\n"
    }
   },
   "source": [
    "## required N=8000 (Nr=Nb) with jr=0.75, jb=0.375 and mt=8"
   ]
  },
  {
   "cell_type": "code",
   "execution_count": 12,
   "metadata": {
    "pycharm": {
     "name": "#%%\n"
    }
   },
   "outputs": [
    {
     "name": "stdout",
     "output_type": "stream",
     "text": [
      "size=100, range=1, agents=(4000, 4000), j_t=(0.75, 0.375), 50 iterations\n"
     ]
    }
   ],
   "source": [
    "size = 100\n",
    "neighbourhood_range = 1\n",
    "agents = (4000, 4000)\n",
    "j_t = (0.75, 0.375)\n",
    "gif_tool = GifTool()\n",
    "model = SchellingModel(size=size, neighbourhood_range=neighbourhood_range, n_agents=agents, j_t=j_t, gif_tool=gif_tool)\n",
    "it = model.play(50)\n",
    "gif_tool.save_gif('required_3.gif', duration=1)\n",
    "print(f'size={size}, range={neighbourhood_range}, agents={agents}, j_t={j_t}, {it} iterations')"
   ]
  },
  {
   "cell_type": "code",
   "execution_count": 13,
   "metadata": {
    "pycharm": {
     "name": "#%%\n"
    }
   },
   "outputs": [
    {
     "data": {
      "text/html": [
       "<img src=\"data/gif/required_3.gif\"/>"
      ],
      "text/plain": [
       "<IPython.core.display.Image object>"
      ]
     },
     "metadata": {},
     "output_type": "display_data"
    }
   ],
   "source": [
    "display(Image(url='data/gif/required_3.gif'))"
   ]
  },
  {
   "cell_type": "markdown",
   "metadata": {
    "pycharm": {
     "name": "#%% md\n"
    }
   },
   "source": [
    "## assignment 2"
   ]
  },
  {
   "cell_type": "code",
   "execution_count": null,
   "metadata": {
    "pycharm": {
     "name": "#%%\n"
    }
   },
   "outputs": [],
   "source": [
    "size = 100\n",
    "neighbourhood_range = 1\n",
    "agents = (4000, 4000)\n",
    "j_t = (0.5, 0.5)\n",
    "gif_tool = GifTool()\n",
    "model = SchellingModel(size=size, neighbourhood_range=neighbourhood_range, n_agents=agents, j_t=j_t, gif_tool=gif_tool)\n",
    "it = model.play(50)\n",
    "gif_tool.save_gif('test.gif', duration=1)\n",
    "print(f'size={size}, range={neighbourhood_range}, agents={agents}, j_t={j_t}, {it} iterations')"
   ]
  },
  {
   "cell_type": "code",
   "execution_count": 14,
   "metadata": {
    "pycharm": {
     "name": "#%%\n"
    }
   },
   "outputs": [
    {
     "data": {
      "text/html": [
       "<img src=\"data/figs/run1_init.png\"/>"
      ],
      "text/plain": [
       "<IPython.core.display.Image object>"
      ]
     },
     "metadata": {},
     "output_type": "display_data"
    }
   ],
   "source": [
    "display(Image(url='data/figs/run1_init.png'))"
   ]
  },
  {
   "cell_type": "code",
   "execution_count": 15,
   "metadata": {
    "pycharm": {
     "name": "#%%\n"
    }
   },
   "outputs": [
    {
     "data": {
      "text/html": [
       "<img src=\"data/figs/run1_end.png\"/>"
      ],
      "text/plain": [
       "<IPython.core.display.Image object>"
      ]
     },
     "metadata": {},
     "output_type": "display_data"
    }
   ],
   "source": [
    "display(Image(url='data/figs/run1_end.png'))"
   ]
  },
  {
   "cell_type": "code",
   "execution_count": 16,
   "metadata": {
    "pycharm": {
     "name": "#%%\n"
    }
   },
   "outputs": [
    {
     "data": {
      "text/html": [
       "<img src=\"data/figs/run2_init.png\"/>"
      ],
      "text/plain": [
       "<IPython.core.display.Image object>"
      ]
     },
     "metadata": {},
     "output_type": "display_data"
    }
   ],
   "source": [
    "display(Image(url='data/figs/run2_init.png'))"
   ]
  },
  {
   "cell_type": "code",
   "execution_count": 17,
   "metadata": {
    "pycharm": {
     "name": "#%%\n"
    }
   },
   "outputs": [
    {
     "data": {
      "text/html": [
       "<img src=\"data/figs/run2_end.png\"/>"
      ],
      "text/plain": [
       "<IPython.core.display.Image object>"
      ]
     },
     "metadata": {},
     "output_type": "display_data"
    }
   ],
   "source": [
    "display(Image(url='data/figs/run2_end.png'))"
   ]
  },
  {
   "cell_type": "code",
   "execution_count": 18,
   "metadata": {
    "pycharm": {
     "name": "#%%\n"
    }
   },
   "outputs": [
    {
     "data": {
      "text/html": [
       "<img src=\"data/figs/run3_init.png\"/>"
      ],
      "text/plain": [
       "<IPython.core.display.Image object>"
      ]
     },
     "metadata": {},
     "output_type": "display_data"
    }
   ],
   "source": [
    "display(Image(url='data/figs/run3_init.png'))"
   ]
  },
  {
   "cell_type": "code",
   "execution_count": 19,
   "metadata": {
    "pycharm": {
     "name": "#%%\n"
    }
   },
   "outputs": [
    {
     "data": {
      "text/html": [
       "<img src=\"data/figs/run3_end.png\"/>"
      ],
      "text/plain": [
       "<IPython.core.display.Image object>"
      ]
     },
     "metadata": {},
     "output_type": "display_data"
    }
   ],
   "source": [
    "display(Image(url='data/figs/run3_end.png'))"
   ]
  },
  {
   "cell_type": "markdown",
   "metadata": {
    "pycharm": {
     "name": "#%% md\n"
    }
   },
   "source": [
    "## assignment 3"
   ]
  },
  {
   "cell_type": "code",
   "execution_count": 21,
   "metadata": {
    "pycharm": {
     "name": "#%%\n"
    }
   },
   "outputs": [
    {
     "name": "stdout",
     "output_type": "stream",
     "text": [
      "being lonely is happy:\n"
     ]
    },
    {
     "data": {
      "text/html": [
       "<img src=\"data/figs/task3.png\"/>"
      ],
      "text/plain": [
       "<IPython.core.display.Image object>"
      ]
     },
     "metadata": {},
     "output_type": "display_data"
    }
   ],
   "source": [
    "print('being lonely is happy:')\n",
    "display(Image(url='data/figs/task3.png'))"
   ]
  },
  {
   "cell_type": "code",
   "execution_count": 22,
   "metadata": {
    "pycharm": {
     "name": "#%%\n"
    }
   },
   "outputs": [
    {
     "name": "stdout",
     "output_type": "stream",
     "text": [
      "being lonely is not happy ;(:\n"
     ]
    },
    {
     "data": {
      "text/html": [
       "<img src=\"data/figs/task3_v2.png\"/>"
      ],
      "text/plain": [
       "<IPython.core.display.Image object>"
      ]
     },
     "metadata": {},
     "output_type": "display_data"
    }
   ],
   "source": [
    "print('being lonely is not happy ;(:')\n",
    "display(Image(url='data/figs/task3_v2.png'))"
   ]
  },
  {
   "cell_type": "markdown",
   "metadata": {
    "pycharm": {
     "name": "#%% md\n"
    }
   },
   "source": [
    "## TASK 4"
   ]
  },
  {
   "cell_type": "code",
   "execution_count": 3,
   "metadata": {},
   "outputs": [
    {
     "name": "stdout",
     "output_type": "stream",
     "text": [
      "being lonely is happy (max 300 iterations):\n"
     ]
    },
    {
     "data": {
      "text/html": [
       "<img src=\"data/figs/task4_250.png\"/>"
      ],
      "text/plain": [
       "<IPython.core.display.Image object>"
      ]
     },
     "metadata": {},
     "output_type": "display_data"
    },
    {
     "name": "stdout",
     "output_type": "stream",
     "text": [
      "{0.125: 0.9974739583333333, 0.25: 0.9971722222222222, 0.375: 0.9990034722222223, 0.5: 0.9989826388888888, 0.625: 1.0, 0.75: 1.0, 0.875: 1.0}\n"
     ]
    }
   ],
   "source": [
    "print('being lonely is happy (max 300 iterations):')\n",
    "display(Image(url='data/figs/task4_250.png'))\n",
    "print('{0.125: 0.9974739583333333, 0.25: 0.9971722222222222, 0.375: 0.9990034722222223, 0.5: 0.9989826388888888, 0.625: 1.0, 0.75: 1.0, 0.875: 1.0}')"
   ]
  },
  {
   "cell_type": "code",
   "execution_count": 6,
   "metadata": {},
   "outputs": [
    {
     "name": "stdout",
     "output_type": "stream",
     "text": [
      "example\n"
     ]
    },
    {
     "data": {
      "text/html": [
       "<img src=\"data/figs/250.png\"/>"
      ],
      "text/plain": [
       "<IPython.core.display.Image object>"
      ]
     },
     "metadata": {},
     "output_type": "display_data"
    }
   ],
   "source": [
    "print('example')\n",
    "display(Image(url='data/figs/250.png'))"
   ]
  },
  {
   "cell_type": "code",
   "execution_count": 28,
   "metadata": {},
   "outputs": [
    {
     "name": "stdout",
     "output_type": "stream",
     "text": [
      "being lonely is unhappy (max 300 iterations):\n"
     ]
    },
    {
     "data": {
      "text/html": [
       "<img src=\"data/figs/task4_250_v2.png\"/>"
      ],
      "text/plain": [
       "<IPython.core.display.Image object>"
      ]
     },
     "metadata": {},
     "output_type": "display_data"
    },
    {
     "name": "stdout",
     "output_type": "stream",
     "text": [
      "{0.125: 0.9494871527777778, 0.25: 0.955846130952381, 0.375: 0.9859582837301589, 0.5: 0.985742361111111, 0.625: 0.9993670138888889, 0.75: 0.9951772321428572, 0.875: 0.8848121527777778}\n"
     ]
    }
   ],
   "source": [
    "print('being lonely is unhappy (max 300 iterations):')\n",
    "display(Image(url='data/figs/task4_250_v2.png'))\n",
    "print('{0.125: 0.9494871527777778, 0.25: 0.955846130952381, 0.375: 0.9859582837301589, 0.5: 0.985742361111111, 0.625: 0.9993670138888889, 0.75: 0.9951772321428572, 0.875: 0.8848121527777778}')"
   ]
  },
  {
   "cell_type": "code",
   "execution_count": 5,
   "metadata": {},
   "outputs": [
    {
     "name": "stdout",
     "output_type": "stream",
     "text": [
      "example\n"
     ]
    },
    {
     "data": {
      "text/html": [
       "<img src=\"data/figs/250_v2.png\"/>"
      ],
      "text/plain": [
       "<IPython.core.display.Image object>"
      ]
     },
     "metadata": {},
     "output_type": "display_data"
    }
   ],
   "source": [
    "print('example')\n",
    "display(Image(url='data/figs/250_v2.png'))"
   ]
  },
  {
   "cell_type": "code",
   "execution_count": 7,
   "metadata": {
    "pycharm": {
     "name": "#%%\n"
    }
   },
   "outputs": [
    {
     "name": "stdout",
     "output_type": "stream",
     "text": [
      "being lonely is happy (max 300 iterations):\n"
     ]
    },
    {
     "data": {
      "text/html": [
       "<img src=\"data/figs/task4_1500.png\"/>"
      ],
      "text/plain": [
       "<IPython.core.display.Image object>"
      ]
     },
     "metadata": {},
     "output_type": "display_data"
    },
    {
     "name": "stdout",
     "output_type": "stream",
     "text": [
      "{0.125: 0.7489986772486771, 0.25: 0.7723051421957671, 0.375: 0.918800562169312, 0.5: 0.9292218915343916, 0.625: 0.9913972222222224, 0.75: 0.9991715277777778, 0.875: 0.8065613756613755}\n"
     ]
    }
   ],
   "source": [
    "print('being lonely is happy (max 300 iterations):')\n",
    "display(Image(url='data/figs/task4_1500.png'))\n",
    "print('{0.125: 0.7489986772486771, 0.25: 0.7723051421957671, 0.375: 0.918800562169312, 0.5: 0.9292218915343916, 0.625: 0.9913972222222224, 0.75: 0.9991715277777778, 0.875: 0.8065613756613755}')"
   ]
  },
  {
   "cell_type": "code",
   "execution_count": 8,
   "metadata": {
    "pycharm": {
     "name": "#%%\n"
    }
   },
   "outputs": [
    {
     "name": "stdout",
     "output_type": "stream",
     "text": [
      "being lonely is unhappy (max 300 iterations):\n"
     ]
    },
    {
     "data": {
      "text/html": [
       "<img src=\"data/figs/task4_1500_v2.png\"/>"
      ],
      "text/plain": [
       "<IPython.core.display.Image object>"
      ]
     },
     "metadata": {},
     "output_type": "display_data"
    },
    {
     "name": "stdout",
     "output_type": "stream",
     "text": [
      "{0.125: 0.718318253968254, 0.25: 0.7552294808201058, 0.375: 0.9095143187830687, 0.5: 0.9252979662698412, 0.625: 0.989292824074074, 0.75: 0.9983041666666667, 0.875: 0.689107705026455}\n"
     ]
    }
   ],
   "source": [
    "print('being lonely is unhappy (max 300 iterations):')\n",
    "display(Image(url='data/figs/task4_1500_v2.png'))\n",
    "print('{0.125: 0.718318253968254, 0.25: 0.7552294808201058, 0.375: 0.9095143187830687, 0.5: 0.9252979662698412, 0.625: 0.989292824074074, 0.75: 0.9983041666666667, 0.875: 0.689107705026455}')"
   ]
  },
  {
   "cell_type": "code",
   "execution_count": 9,
   "metadata": {
    "pycharm": {
     "name": "#%%\n"
    }
   },
   "outputs": [
    {
     "name": "stdout",
     "output_type": "stream",
     "text": [
      "being lonely is happy (max 300 iterations), range = 2:\n",
      "{0.04167: 0.5670316020179796, 0.08334: 0.5652553136882181, 0.12501: 0.5700239628608501, 0.16668: 0.5753829188467668, 0.20834999999999998: 0.5803178590087291, 0.25001999999999996: 0.6054571566312682, 0.29169: 0.6266018463120485, 0.33336: 0.6956513923194274, 0.37503: 0.7544931440133033, 0.41669999999999996: 0.8101612772814059, 0.45836999999999994: 0.8679683769583554, 0.50004: 0.9157637761056572, 0.54171: 0.918576286888266, 0.58338: 0.947189439553502, 0.62505: 0.9668946689113357, 0.66672: 0.982696091466404, 0.70839: 0.9854930771581815, 0.75006: 0.9961627279549155, 0.7917299999999999: 0.9978918236606349, 0.8333999999999999: 0.5941626241060209, 0.8750699999999999: 0.5795616027608562, 0.91674: 0.5745319149799671, 0.95841: 0.573515202035392}\n"
     ]
    },
    {
     "data": {
      "text/html": [
       "<img src=\"data/figs/task4_range_2.png\"/>"
      ],
      "text/plain": [
       "<IPython.core.display.Image object>"
      ]
     },
     "metadata": {},
     "output_type": "display_data"
    }
   ],
   "source": [
    "print('being lonely is happy (max 300 iterations), range = 2:')\n",
    "print({0.04167: 0.5670316020179796, 0.08334: 0.5652553136882181, 0.12501: 0.5700239628608501, 0.16668: 0.5753829188467668, 0.20834999999999998: 0.5803178590087291, 0.25001999999999996: 0.6054571566312682, 0.29169: 0.6266018463120485, 0.33336: 0.6956513923194274, 0.37503: 0.7544931440133033, 0.41669999999999996: 0.8101612772814059, 0.45836999999999994: 0.8679683769583554, 0.50004: 0.9157637761056572, 0.54171: 0.918576286888266, 0.58338: 0.947189439553502, 0.62505: 0.9668946689113357, 0.66672: 0.982696091466404, 0.70839: 0.9854930771581815, 0.75006: 0.9961627279549155, 0.7917299999999999: 0.9978918236606349, 0.8333999999999999: 0.5941626241060209, 0.8750699999999999: 0.5795616027608562, 0.91674: 0.5745319149799671, 0.95841: 0.573515202035392})\n",
    "display(Image(url='data/figs/task4_range_2.png'))"
   ]
  },
  {
   "cell_type": "markdown",
   "metadata": {},
   "source": [
    "## task 5"
   ]
  },
  {
   "cell_type": "code",
   "execution_count": 16,
   "metadata": {},
   "outputs": [
    {
     "name": "stdout",
     "output_type": "stream",
     "text": [
      "being lonely is happy (max 300 iterations):\n"
     ]
    },
    {
     "data": {
      "text/html": [
       "<img src=\"data/figs/task5_250.png\"/>"
      ],
      "text/plain": [
       "<IPython.core.display.Image object>"
      ]
     },
     "metadata": {},
     "output_type": "display_data"
    },
    {
     "name": "stdout",
     "output_type": "stream",
     "text": [
      "{1.0: 0.999, 2.0: 0.9824291666666666, 3.0: 0.9485924107142857, 4.0: 0.9283631207912458, 5.0: 0.9155323972323973}\n"
     ]
    }
   ],
   "source": [
    "print('being lonely is happy (max 300 iterations):')\n",
    "display(Image(url='data/figs/task5_250.png'))\n",
    "print('{1.0: 0.999, 2.0: 0.9824291666666666, 3.0: 0.9485924107142857, 4.0: 0.9283631207912458, 5.0: 0.9155323972323973}')"
   ]
  },
  {
   "cell_type": "code",
   "execution_count": 19,
   "metadata": {},
   "outputs": [
    {
     "name": "stdout",
     "output_type": "stream",
     "text": [
      "being lonely is unhappy (max 300 iterations):\n"
     ]
    },
    {
     "data": {
      "text/html": [
       "<img src=\"data/figs/task5_250_v2.png\"/>"
      ],
      "text/plain": [
       "<IPython.core.display.Image object>"
      ]
     },
     "metadata": {},
     "output_type": "display_data"
    },
    {
     "name": "stdout",
     "output_type": "stream",
     "text": [
      "{1.0: 0.9860930555555555, 2.0: 0.9655198412698413, 3.0: 0.9434876157407408, 4.0: 0.9221738997113998, 5.0: 0.9152769317488069}\n"
     ]
    }
   ],
   "source": [
    "print('being lonely is unhappy (max 300 iterations):')\n",
    "display(Image(url='data/figs/task5_250_v2.png'))\n",
    "print('{1.0: 0.9860930555555555, 2.0: 0.9655198412698413, 3.0: 0.9434876157407408, 4.0: 0.9221738997113998, 5.0: 0.9152769317488069}')"
   ]
  },
  {
   "cell_type": "code",
   "execution_count": 20,
   "metadata": {
    "pycharm": {
     "name": "#%%\n"
    }
   },
   "outputs": [
    {
     "name": "stdout",
     "output_type": "stream",
     "text": [
      "being lonely is happy (max 300 iterations)\n"
     ]
    },
    {
     "data": {
      "text/html": [
       "<img src=\"data/figs/task5_2500.png\"/>"
      ],
      "text/plain": [
       "<IPython.core.display.Image object>"
      ]
     },
     "metadata": {},
     "output_type": "display_data"
    },
    {
     "name": "stdout",
     "output_type": "stream",
     "text": [
      "{1.0: 0.8973640674603175, 2.0: 0.8944520180576397, 3.0: 0.8920384079097347, 4.0: 0.8946348567745886, 5.0: 0.8924313844520855}\n"
     ]
    }
   ],
   "source": [
    "print('being lonely is happy (max 300 iterations)')\n",
    "display(Image(url='data/figs/task5_2500.png'))\n",
    "print('{1.0: 0.8973640674603175, 2.0: 0.8944520180576397, 3.0: 0.8920384079097347, 4.0: 0.8946348567745886, 5.0: 0.8924313844520855}')"
   ]
  },
  {
   "cell_type": "code",
   "execution_count": 21,
   "metadata": {
    "pycharm": {
     "name": "#%%\n"
    }
   },
   "outputs": [
    {
     "name": "stdout",
     "output_type": "stream",
     "text": [
      "being lonely is happy (max 300 iterations)\n"
     ]
    },
    {
     "data": {
      "text/html": [
       "<img src=\"data/figs/task5_2500_v2.png\"/>"
      ],
      "text/plain": [
       "<IPython.core.display.Image object>"
      ]
     },
     "metadata": {},
     "output_type": "display_data"
    },
    {
     "name": "stdout",
     "output_type": "stream",
     "text": [
      "{1.0: 0.8961386408730158, 2.0: 0.8949541951839728, 3.0: 0.8918204671633916, 4.0: 0.8930254267929482, 5.0: 0.8925650177785066}\n"
     ]
    }
   ],
   "source": [
    "print('being lonely is happy (max 300 iterations)')\n",
    "display(Image(url='data/figs/task5_2500_v2.png'))\n",
    "print('{1.0: 0.8961386408730158, 2.0: 0.8949541951839728, 3.0: 0.8918204671633916, 4.0: 0.8930254267929482, 5.0: 0.8925650177785066}')"
   ]
  },
  {
   "cell_type": "code",
   "execution_count": 22,
   "metadata": {},
   "outputs": [
    {
     "name": "stdout",
     "output_type": "stream",
     "text": [
      "being lonely is happy (max 300 iterations)\n"
     ]
    },
    {
     "data": {
      "text/html": [
       "<img src=\"data/figs/task5_j0625.png\"/>"
      ],
      "text/plain": [
       "<IPython.core.display.Image object>"
      ]
     },
     "metadata": {},
     "output_type": "display_data"
    },
    {
     "name": "stdout",
     "output_type": "stream",
     "text": [
      "{1.0: 1.0, 2.0: 0.9998437500000001, 3.0: 0.995156994047619, 4.0: 0.988166130050505, 5.0: 0.9812455883237133}\n"
     ]
    }
   ],
   "source": [
    "print('being lonely is happy (max 300 iterations)')\n",
    "display(Image(url='data/figs/task5_j0625.png'))\n",
    "print('{1.0: 1.0, 2.0: 0.9998437500000001, 3.0: 0.995156994047619, 4.0: 0.988166130050505, 5.0: 0.9812455883237133}')"
   ]
  },
  {
   "cell_type": "code",
   "execution_count": 23,
   "metadata": {},
   "outputs": [
    {
     "name": "stdout",
     "output_type": "stream",
     "text": [
      "being lonely is happy (max 300 iterations)\n"
     ]
    },
    {
     "data": {
      "text/html": [
       "<img src=\"data/figs/task5_j0625_v2.png\"/>"
      ],
      "text/plain": [
       "<IPython.core.display.Image object>"
      ]
     },
     "metadata": {},
     "output_type": "display_data"
    },
    {
     "name": "stdout",
     "output_type": "stream",
     "text": [
      "{1.0: 0.9993791666666668, 2.0: 0.9975935515873017, 3.0: 0.993352876984127, 4.0: 0.9882126773689274, 5.0: 0.98077536751443}\n"
     ]
    }
   ],
   "source": [
    "print('being lonely is happy (max 300 iterations)')\n",
    "display(Image(url='data/figs/task5_j0625_v2.png'))\n",
    "print('{1.0: 0.9993791666666668, 2.0: 0.9975935515873017, 3.0: 0.993352876984127, 4.0: 0.9882126773689274, 5.0: 0.98077536751443}')"
   ]
  },
  {
   "cell_type": "markdown",
   "metadata": {},
   "source": [
    "## task 6"
   ]
  },
  {
   "cell_type": "code",
   "execution_count": 10,
   "metadata": {
    "pycharm": {
     "name": "#%%\n"
    }
   },
   "outputs": [
    {
     "name": "stdout",
     "output_type": "stream",
     "text": [
      "size=100, range=1, agents=(4000, 4000), j_t=(0.75, 0.375), 100 iterations\n"
     ]
    }
   ],
   "source": [
    "size = 100\n",
    "neighbourhood_range = 1\n",
    "agents = (4000, 4000)\n",
    "j_t = (6/8, 3/8)\n",
    "gif_tool = GifTool()\n",
    "model = SchellingModel(size=size, neighbourhood_range=neighbourhood_range, n_agents=agents, j_t=j_t, gif_tool=gif_tool)\n",
    "it = model.play(100)\n",
    "gif_tool.save_gif('task6.gif', duration=1)\n",
    "print(f'size={size}, range={neighbourhood_range}, agents={agents}, j_t={j_t}, {it} iterations')"
   ]
  },
  {
   "cell_type": "code",
   "execution_count": 11,
   "metadata": {},
   "outputs": [
    {
     "data": {
      "text/html": [
       "<img src=\"data/gif/task6.gif\"/>"
      ],
      "text/plain": [
       "<IPython.core.display.Image object>"
      ]
     },
     "metadata": {},
     "output_type": "display_data"
    }
   ],
   "source": [
    "display(Image(url='data/gif/task6.gif'))"
   ]
  },
  {
   "cell_type": "code",
   "execution_count": 14,
   "metadata": {},
   "outputs": [
    {
     "name": "stdout",
     "output_type": "stream",
     "text": [
      "size=100, range=1, agents=(4000, 4000), j_t=(0.75, 0.375), 100 iterations\n"
     ]
    }
   ],
   "source": [
    "size = 100\n",
    "neighbourhood_range = 1\n",
    "agents = (4000, 4000)\n",
    "j_t = (6/8, 3/8)\n",
    "gif_tool = GifTool()\n",
    "model = SchellingModelUnhappy(size=size, neighbourhood_range=neighbourhood_range, n_agents=agents, j_t=j_t, gif_tool=gif_tool)\n",
    "it = model.play(100)\n",
    "gif_tool.save_gif('task6v2.gif', duration=1)\n",
    "print(f'size={size}, range={neighbourhood_range}, agents={agents}, j_t={j_t}, {it} iterations')"
   ]
  },
  {
   "cell_type": "code",
   "execution_count": 15,
   "metadata": {},
   "outputs": [
    {
     "data": {
      "text/html": [
       "<img src=\"data/gif/task6v2.gif\"/>"
      ],
      "text/plain": [
       "<IPython.core.display.Image object>"
      ]
     },
     "metadata": {},
     "output_type": "display_data"
    }
   ],
   "source": [
    "display(Image(url='data/gif/task6v2.gif'))"
   ]
  },
  {
   "cell_type": "code",
   "execution_count": null,
   "metadata": {},
   "outputs": [],
   "source": []
  }
 ],
 "metadata": {
  "kernelspec": {
   "display_name": "Python 3 (ipykernel)",
   "language": "python",
   "name": "python3"
  },
  "language_info": {
   "codemirror_mode": {
    "name": "ipython",
    "version": 3
   },
   "file_extension": ".py",
   "mimetype": "text/x-python",
   "name": "python",
   "nbconvert_exporter": "python",
   "pygments_lexer": "ipython3",
   "version": "3.10.4"
  }
 },
 "nbformat": 4,
 "nbformat_minor": 1
}
