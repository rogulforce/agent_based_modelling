{
 "cells": [
  {
   "cell_type": "code",
   "execution_count": 15,
   "metadata": {},
   "outputs": [],
   "source": [
    "# Piotr Rogula, 249801\n",
    "\n",
    "\"\"\" installation of packages. No version specified (can be skipped)\"\"\"\n",
    "!pip install -r ..\\requirements.txt"
   ]
  },
  {
   "cell_type": "code",
   "execution_count": 1,
   "metadata": {},
   "outputs": [],
   "source": [
    "from forest import Forest, GifTool, WindyForest\n",
    "import numpy as np\n",
    "import matplotlib.pyplot as plt\n",
    "from tqdm import tqdm\n",
    "from IPython.display import Image, display\n",
    "from multiprocessing import Pool\n",
    "from functools import partial\n",
    "from sklearn.linear_model import LinearRegression"
   ]
  },
  {
   "cell_type": "code",
   "execution_count": 3,
   "metadata": {
    "pycharm": {
     "name": "#%%\n"
    }
   },
   "outputs": [],
   "source": [
    "\"\"\" forest class is implemented in forest.py file. \"\"\"\n",
    "# gif example\n",
    "f = Forest(10, 0.5, gif_tool=GifTool())\n",
    "f.play()\n",
    "f.gif_tool.save_gif('example.gif', duration=1)"
   ]
  },
  {
   "cell_type": "code",
   "execution_count": 3,
   "metadata": {
    "pycharm": {
     "name": "#%%\n"
    },
    "scrolled": true
   },
   "outputs": [
    {
     "data": {
      "text/html": [
       "<img src=\"data/gif/example.gif\"/>"
      ],
      "text/plain": [
       "<IPython.core.display.Image object>"
      ]
     },
     "metadata": {},
     "output_type": "display_data"
    }
   ],
   "source": [
    "display(Image(url='data/gif/example.gif'))"
   ]
  },
  {
   "cell_type": "markdown",
   "metadata": {},
   "source": [
    "# Task 3"
   ]
  },
  {
   "cell_type": "code",
   "execution_count": 17,
   "metadata": {},
   "outputs": [
    {
     "data": {
      "text/html": [
       "<img src=\"data/gif/wind_02.gif\"/>"
      ],
      "text/plain": [
       "<IPython.core.display.Image object>"
      ]
     },
     "metadata": {},
     "output_type": "display_data"
    }
   ],
   "source": [
    "wind_power = 0.1\n",
    "f = WindyForest(10, 0.5, gif_tool=GifTool(), wind_power=wind_power)\n",
    "f.play()\n",
    "f.gif_tool.save_gif('wind_02.gif', duration=1)\n",
    "display(Image(url='data/gif/wind_02.gif'))"
   ]
  },
  {
   "cell_type": "code",
   "execution_count": 6,
   "metadata": {},
   "outputs": [
    {
     "data": {
      "text/html": [
       "<img src=\"data/gif/wind_05.gif\"/>"
      ],
      "text/plain": [
       "<IPython.core.display.Image object>"
      ]
     },
     "metadata": {},
     "output_type": "display_data"
    }
   ],
   "source": [
    "wind_power = 0.5\n",
    "f = WindyForest(10, 0.5, gif_tool=GifTool(), wind_power=wind_power)\n",
    "f.play()\n",
    "f.gif_tool.save_gif('wind_05.gif', duration=1)\n",
    "display(Image(url='data/gif/wind_05.gif'))"
   ]
  },
  {
   "cell_type": "markdown",
   "metadata": {},
   "source": [
    "# task 1"
   ]
  },
  {
   "cell_type": "code",
   "execution_count": 8,
   "metadata": {
    "pycharm": {
     "name": "#%%\n"
    }
   },
   "outputs": [],
   "source": [
    "\"\"\" Functions counting p* with monte carlo included and creating plots\"\"\"\n",
    "def percolation(p: float, size: int, mc_steps: int):\n",
    "    \"\"\" Function counting percolation of the lattice for <mc_steps> monte carlo steps, being given parameters p, size\n",
    "    Args:\n",
    "        p:\n",
    "        size:\n",
    "        mc_steps:\n",
    "    Returns:\n",
    "\n",
    "    \"\"\"\n",
    "    forest = Forest(size=size, p=p)\n",
    "    perc_list = []\n",
    "    for _ in range(mc_steps):\n",
    "        forest.__init__(size, p)\n",
    "        forest.play()\n",
    "        perc_list.append(forest.fire_hit_edge())\n",
    "    return np.mean(perc_list)\n",
    "\n",
    "\n",
    "def plot_percolation(size: int, mc_steps: int, p_step: float = 0.02, p_min: float = 0, p_max: float = 1, show: bool = True):\n",
    "    # percolation p*(p)\n",
    "    p_list = np.arange(p_min,p_max+p_step,p_step)\n",
    "\n",
    "    perc = {prb: 1 for prb in p_list}\n",
    "    for prb in tqdm(p_list):\n",
    "        percolation_p = percolation(prb, size, mc_steps)\n",
    "        if percolation_p == 1:\n",
    "            break\n",
    "        perc[prb] = percolation_p\n",
    "\n",
    "    plt.figure(figsize=(10,5))\n",
    "    plt.scatter(perc.keys(), perc.values())\n",
    "    plt.title(f'percolation of p, for {mc_steps} monte carlo steps, lattice {size}x{size}')\n",
    "    plt.xlabel('p')\n",
    "    plt.ylabel('p*')\n",
    "    plt.grid()\n",
    "    if show:\n",
    "        plt.show()\n",
    "\n",
    "    return perc"
   ]
  },
  {
   "cell_type": "code",
   "execution_count": 12,
   "metadata": {
    "pycharm": {
     "name": "#%%\n"
    }
   },
   "outputs": [
    {
     "name": "stderr",
     "output_type": "stream",
     "text": [
      " 53%|███████████████████████████████████████████▍                                      | 27/51 [00:18<00:16,  1.48it/s]\n"
     ]
    },
    {
     "data": {
      "image/png": "[encoded data removed]",
      "text/plain": [
       "<Figure size 720x360 with 1 Axes>"
      ]
     },
     "metadata": {
      "needs_background": "light"
     },
     "output_type": "display_data"
    }
   ],
   "source": [
    "\"\"\"percolation p*(p), Lattice 20 X 20 \"\"\"\n",
    "size = 20\n",
    "mc_steps=100\n",
    "p_step = 0.02\n",
    "plot_percolation(size=size, mc_steps=mc_steps, show = False)\n",
    "plt.plot([0,1], [0.5, 0.5], 'r-')\n",
    "plt.show()"
   ]
  },
  {
   "cell_type": "code",
   "execution_count": 18,
   "metadata": {
    "scrolled": false
   },
   "outputs": [
    {
     "name": "stderr",
     "output_type": "stream",
     "text": [
      "100%|██████████████████████████████████████████████████████████████████████████████████| 41/41 [04:42<00:00,  6.89s/it]\n"
     ]
    },
    {
     "data": {
      "image/png": "[encoded data removed]",
      "text/plain": [
       "<Figure size 720x360 with 1 Axes>"
      ]
     },
     "metadata": {
      "needs_background": "light"
     },
     "output_type": "display_data"
    },
    {
     "name": "stdout",
     "output_type": "stream",
     "text": [
      "{0.38: 0.29, 0.3825: 0.32, 0.385: 0.295, 0.3875: 0.3325, 0.39: 0.34, 0.3925: 0.38, 0.395: 0.445, 0.3975: 0.4275, 0.4: 0.48, 0.4025: 0.42, 0.405: 0.4975, 0.40750000000000003: 0.4925, 0.41000000000000003: 0.5375, 0.41250000000000003: 0.5225, 0.41500000000000004: 0.5175, 0.41750000000000004: 0.57, 0.42000000000000004: 0.5775, 0.42250000000000004: 0.57, 0.42500000000000004: 0.5825, 0.42750000000000005: 0.6175, 0.43000000000000005: 0.635, 0.43250000000000005: 0.665, 0.43500000000000005: 0.7225, 0.43750000000000006: 0.6625, 0.44000000000000006: 0.7175, 0.44250000000000006: 0.7575, 0.44500000000000006: 0.7725, 0.44750000000000006: 0.7675, 0.45000000000000007: 0.77, 0.45250000000000007: 0.765, 0.45500000000000007: 0.845, 0.4575000000000001: 0.8625, 0.4600000000000001: 0.8275, 0.4625000000000001: 0.815, 0.4650000000000001: 0.8175, 0.4675000000000001: 0.855, 0.4700000000000001: 0.845, 0.4725000000000001: 0.875, 0.4750000000000001: 0.8825, 0.4775000000000001: 0.89, 0.4800000000000001: 0.9225}\n"
     ]
    }
   ],
   "source": [
    "# we take closer look.\n",
    "size = 20\n",
    "mc_steps = 400\n",
    "p_step = 0.0025\n",
    "p_min, p_max = 0.38, 0.48\n",
    "perc = plot_percolation(size=size, mc_steps=mc_steps, p_step=p_step, p_min=p_min, p_max=p_max, show = False)\n",
    "plt.plot([p_min, p_max], [0.5, 0.5], 'r-')\n",
    "plt.show()\n",
    "print(perc)"
   ]
  },
  {
   "cell_type": "code",
   "execution_count": 22,
   "metadata": {},
   "outputs": [
    {
     "name": "stdout",
     "output_type": "stream",
     "text": [
      "estimator: 0.4092577620108352\n"
     ]
    }
   ],
   "source": [
    "vals = {0.38: 0.29, 0.3825: 0.32, 0.385: 0.295, 0.3875: 0.3325, 0.39: 0.34, 0.3925: 0.38, 0.395: 0.445, 0.3975: 0.4275, 0.4: 0.48, 0.4025: 0.42, 0.405: 0.4975, 0.40750000000000003: 0.4925, 0.41000000000000003: 0.5375, 0.41250000000000003: 0.5225, 0.41500000000000004: 0.5175, 0.41750000000000004: 0.57, 0.42000000000000004: 0.5775, 0.42250000000000004: 0.57, 0.42500000000000004: 0.5825, 0.42750000000000005: 0.6175, 0.43000000000000005: 0.635, 0.43250000000000005: 0.665, 0.43500000000000005: 0.7225, 0.43750000000000006: 0.6625, 0.44000000000000006: 0.7175, 0.44250000000000006: 0.7575, 0.44500000000000006: 0.7725, 0.44750000000000006: 0.7675, 0.45000000000000007: 0.77, 0.45250000000000007: 0.765, 0.45500000000000007: 0.845, 0.4575000000000001: 0.8625, 0.4600000000000001: 0.8275, 0.4625000000000001: 0.815, 0.4650000000000001: 0.8175, 0.4675000000000001: 0.855, 0.4700000000000001: 0.845, 0.4725000000000001: 0.875, 0.4750000000000001: 0.8825, 0.4775000000000001: 0.89, 0.4800000000000001: 0.9225}\n",
    "X = np.array([it for it in vals.keys()]).reshape(-1,1)\n",
    "Y = np.array([it for it in vals.values()])\n",
    "\n",
    "model = LinearRegression()\n",
    "model.fit(X,Y)\n",
    "print('estimator: ' + str((0.5 - model.intercept_)/model.coef_[0]))\n"
   ]
  },
  {
   "cell_type": "code",
   "execution_count": 19,
   "metadata": {
    "pycharm": {
     "name": "#%%\n"
    },
    "scrolled": false
   },
   "outputs": [
    {
     "name": "stderr",
     "output_type": "stream",
     "text": [
      " 49%|████████████████████████████████████████▏                                         | 25/51 [11:17<11:44, 27.09s/it]\n"
     ]
    },
    {
     "data": {
      "image/png": "[encoded data removed]",
      "text/plain": [
       "<Figure size 720x360 with 1 Axes>"
      ]
     },
     "metadata": {
      "needs_background": "light"
     },
     "output_type": "display_data"
    }
   ],
   "source": [
    "\"\"\"percolation p*(p), Lattice 50 X 50 \"\"\"\n",
    "size = 50\n",
    "mc_steps=100\n",
    "p_step = 0.02\n",
    "plot_percolation(size=size, mc_steps=mc_steps, show = False)\n",
    "plt.plot([0,1], [0.5, 0.5], 'r-')\n",
    "plt.show()"
   ]
  },
  {
   "cell_type": "code",
   "execution_count": 20,
   "metadata": {},
   "outputs": [
    {
     "name": "stderr",
     "output_type": "stream",
     "text": [
      "100%|███████████████████████████████████████████████████████████████████████████████| 21/21 [1:13:30<00:00, 210.05s/it]\n"
     ]
    },
    {
     "data": {
      "image/png": "[encoded data removed]",
      "text/plain": [
       "<Figure size 720x360 with 1 Axes>"
      ]
     },
     "metadata": {
      "needs_background": "light"
     },
     "output_type": "display_data"
    },
    {
     "name": "stdout",
     "output_type": "stream",
     "text": [
      "{0.38: 0.16, 0.3825: 0.1875, 0.385: 0.225, 0.3875: 0.1975, 0.39: 0.2625, 0.3925: 0.2875, 0.395: 0.3375, 0.3975: 0.3825, 0.4: 0.39, 0.4025: 0.4075, 0.405: 0.45, 0.40750000000000003: 0.5075, 0.41000000000000003: 0.5525, 0.41250000000000003: 0.52, 0.41500000000000004: 0.6, 0.41750000000000004: 0.625, 0.42000000000000004: 0.64, 0.42250000000000004: 0.7, 0.42500000000000004: 0.7425, 0.42750000000000005: 0.7375, 0.43000000000000005: 0.7675}\n"
     ]
    }
   ],
   "source": [
    "# we take closer look.\n",
    "size = 50\n",
    "mc_steps = 400\n",
    "p_step = 0.0025\n",
    "p_min, p_max = 0.38, 0.43\n",
    "perc = plot_percolation(size=size, mc_steps=mc_steps, p_step=p_step, p_min=p_min, p_max=p_max, show = False)\n",
    "plt.plot([p_min, p_max], [0.5, 0.5], 'r-')\n",
    "plt.show()\n",
    "print(perc)"
   ]
  },
  {
   "cell_type": "code",
   "execution_count": 21,
   "metadata": {},
   "outputs": [
    {
     "name": "stdout",
     "output_type": "stream",
     "text": [
      "estimator: 0.40806521222007003\n"
     ]
    }
   ],
   "source": [
    "vals = {0.38: 0.16, 0.3825: 0.1875, 0.385: 0.225, 0.3875: 0.1975, 0.39: 0.2625, 0.3925: 0.2875, 0.395: 0.3375, 0.3975: 0.3825, 0.4: 0.39, 0.4025: 0.4075, 0.405: 0.45, 0.40750000000000003: 0.5075, 0.41000000000000003: 0.5525, 0.41250000000000003: 0.52, 0.41500000000000004: 0.6, 0.41750000000000004: 0.625, 0.42000000000000004: 0.64, 0.42250000000000004: 0.7, 0.42500000000000004: 0.7425, 0.42750000000000005: 0.7375, 0.43000000000000005: 0.7675}\n",
    "X = np.array([it for it in vals.keys()]).reshape(-1,1)\n",
    "Y = np.array([it for it in vals.values()])\n",
    "\n",
    "model = LinearRegression()\n",
    "model.fit(X,Y)\n",
    "print('estimator: ' + str((0.5 - model.intercept_)/model.coef_[0]))"
   ]
  },
  {
   "cell_type": "code",
   "execution_count": 21,
   "metadata": {
    "pycharm": {
     "name": "#%%\n"
    }
   },
   "outputs": [
    {
     "name": "stderr",
     "output_type": "stream",
     "text": [
      " 45%|██████████████████████████████████▋                                          | 23/51 [1:15:48<1:32:17, 197.78s/it]\n"
     ]
    },
    {
     "data": {
      "image/png": "[encoded data removed]",
      "text/plain": [
       "<Figure size 720x360 with 1 Axes>"
      ]
     },
     "metadata": {
      "needs_background": "light"
     },
     "output_type": "display_data"
    }
   ],
   "source": [
    "\"\"\"percolation p*(p), Lattice 100 X 100 \"\"\"\n",
    "size = 100\n",
    "mc_steps=100\n",
    "p_step = 0.02\n",
    "plot_percolation(size=size, mc_steps=mc_steps, show = False)\n",
    "plt.plot([0,1], [0.5, 0.5], 'r-')\n",
    "plt.show()"
   ]
  },
  {
   "cell_type": "code",
   "execution_count": 9,
   "metadata": {
    "pycharm": {
     "name": "#%%\n"
    }
   },
   "outputs": [
    {
     "name": "stderr",
     "output_type": "stream",
     "text": [
      "100%|████████████████████████████████████████████████████████████████████████████████| 9/9 [7:21:34<00:00, 2943.81s/it]\n"
     ]
    },
    {
     "data": {
      "image/png": "[encoded data removed]",
      "text/plain": [
       "<Figure size 720x360 with 1 Axes>"
      ]
     },
     "metadata": {
      "needs_background": "light"
     },
     "output_type": "display_data"
    },
    {
     "name": "stdout",
     "output_type": "stream",
     "text": [
      "{0.4: 0.2825, 0.4025: 0.3725, 0.405: 0.425, 0.40750000000000003: 0.465, 0.41000000000000003: 0.5725, 0.41250000000000003: 0.615, 0.41500000000000004: 0.68, 0.41750000000000004: 0.68, 0.42000000000000004: 0.78}\n"
     ]
    }
   ],
   "source": [
    "# we take closer look.\n",
    "size = 100\n",
    "mc_steps = 400\n",
    "p_step = 0.0025\n",
    "p_min, p_max = 0.40, 0.42\n",
    "perc = plot_percolation(size=size, mc_steps=mc_steps, p_step=p_step, p_min=p_min, p_max=p_max, show = False)\n",
    "plt.plot([p_min, p_max], [0.5, 0.5], 'r-')\n",
    "plt.show()\n",
    "print(perc)\n"
   ]
  },
  {
   "cell_type": "code",
   "execution_count": 2,
   "metadata": {},
   "outputs": [
    {
     "name": "stdout",
     "output_type": "stream",
     "text": [
      "estimator: 0.40826218801026354\n"
     ]
    }
   ],
   "source": [
    "vals = {0.4: 0.2825, 0.4025: 0.3725, 0.405: 0.425, 0.40750000000000003: 0.465, 0.41000000000000003: 0.5725, 0.41250000000000003: 0.615, 0.41500000000000004: 0.68, 0.41750000000000004: 0.68, 0.42000000000000004: 0.78}\n",
    "X = np.array([it for it in vals.keys()]).reshape(-1,1)\n",
    "Y = np.array([it for it in vals.values()])\n",
    "\n",
    "model = LinearRegression()\n",
    "model.fit(X,Y)\n",
    "print('estimator: ' + str((0.5 - model.intercept_)/model.coef_[0]))\n"
   ]
  },
  {
   "cell_type": "markdown",
   "metadata": {},
   "source": [
    "# TASK 1, ESTIMATION \"TREE BY TREE\" (JUST TO SHOW IT'S IMPLEMENTED)"
   ]
  },
  {
   "cell_type": "code",
   "execution_count": 4,
   "metadata": {},
   "outputs": [
    {
     "name": "stderr",
     "output_type": "stream",
     "text": [
      "100%|██████████████████████████████████████████████████████████████████████████████| 1000/1000 [07:37<00:00,  2.19it/s]"
     ]
    },
    {
     "name": "stdout",
     "output_type": "stream",
     "text": [
      "0.41217499999999996\n"
     ]
    },
    {
     "name": "stderr",
     "output_type": "stream",
     "text": [
      "\n"
     ]
    }
   ],
   "source": [
    "size = 20\n",
    "mc_steps = 1000\n",
    "\n",
    "res = []\n",
    "for _ in tqdm(range(mc_steps)):\n",
    "    tree = Forest(size, 0, gif_tool=None)\n",
    "    res.append(tree.percolation_threshold_estimator())\n",
    "    \n",
    "print(np.mean(res))"
   ]
  },
  {
   "cell_type": "markdown",
   "metadata": {},
   "source": [
    "# TASK 2"
   ]
  },
  {
   "cell_type": "code",
   "execution_count": 5,
   "metadata": {
    "pycharm": {
     "name": "#%%\n"
    }
   },
   "outputs": [],
   "source": [
    "\"\"\" Functions counting max cluster size with monte carlo included and creating plots\"\"\""
   ]
  },
  {
   "cell_type": "code",
   "execution_count": 27,
   "metadata": {},
   "outputs": [
    {
     "name": "stdout",
     "output_type": "stream",
     "text": [
      "100%|██████████| 21/21 [1:04:46<00:00, 185.08s/it]\n"
     ]
    },
    {
     "data": {
      "text/html": [
       "<img src=\"data/figs/max_cluster_size.png\"/>"
      ],
      "text/plain": [
       "<IPython.core.display.Image object>"
      ]
     },
     "metadata": {},
     "output_type": "display_data"
    }
   ],
   "source": [
    "\"\"\"avg max cluster size(p), Lattice 100 X 100 \"\"\"\n",
    "# the code is performed in max_cluster_count_multithread.py due to performance optimization.\n",
    "# The result:\n",
    "print('100%|██████████| 21/21 [1:04:46<00:00, 185.08s/it]')\n",
    "display(Image(url='data/figs/max_cluster_size.png'))"
   ]
  },
  {
   "cell_type": "code",
   "execution_count": 28,
   "metadata": {},
   "outputs": [
    {
     "name": "stdout",
     "output_type": "stream",
     "text": [
      "100%|██████████| 12/12 [29:19<00:00, 146.62s/it]\n"
     ]
    },
    {
     "data": {
      "text/html": [
       "<img src=\"data/figs/max_cluster_size_2.png\"/>"
      ],
      "text/plain": [
       "<IPython.core.display.Image object>"
      ]
     },
     "metadata": {},
     "output_type": "display_data"
    }
   ],
   "source": [
    "\"\"\" same for the p* threhold neighbourhood. \"\"\"\n",
    "print('100%|██████████| 12/12 [29:19<00:00, 146.62s/it]')\n",
    "display(Image(url='data/figs/max_cluster_size_2.png'))"
   ]
  },
  {
   "cell_type": "code",
   "execution_count": null,
   "metadata": {},
   "outputs": [],
   "source": []
  }
 ],
 "metadata": {
  "kernelspec": {
   "display_name": "Python 3 (ipykernel)",
   "language": "python",
   "name": "python3"
  },
  "language_info": {
   "codemirror_mode": {
    "name": "ipython",
    "version": 3
   },
   "file_extension": ".py",
   "mimetype": "text/x-python",
   "name": "python",
   "nbconvert_exporter": "python",
   "pygments_lexer": "ipython3",
   "version": "3.10.4"
  }
 },
 "nbformat": 4,
 "nbformat_minor": 1
}
