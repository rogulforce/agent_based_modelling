{
 "cells": [
  {
   "cell_type": "code",
   "execution_count": 4,
   "metadata": {
    "collapsed": true
   },
   "outputs": [],
   "source": [
    "# Piotr Rogula, 249801\n",
    "from lattice import Lattice\n",
    "import numpy as np\n",
    "import matplotlib.pyplot as plt\n",
    "from tqdm import tqdm\n"
   ]
  },
  {
   "cell_type": "code",
   "execution_count": 5,
   "outputs": [],
   "source": [
    "def percolation(p: float, size: int, mc_steps: int):\n",
    "    \"\"\" Function counting percolation of the lattice for <mc_steps> monte carlo steps, being given parameters p, size\n",
    "    Args:\n",
    "        p:\n",
    "        size:\n",
    "        mc_steps:\n",
    "    Returns:\n",
    "\n",
    "    \"\"\"\n",
    "    lattice = Lattice(size=size, p=p)\n",
    "    perc_list = []\n",
    "    for _ in range(mc_steps):\n",
    "        lattice.__init__(size, p)\n",
    "        lattice.play()\n",
    "        perc_list.append(lattice.fire_hit_edge())\n",
    "    return np.mean(perc_list)\n",
    "\n",
    "\n",
    "def plot_percolation(size: int, mc_steps: int, p_step: float = 0.02):\n",
    "    # percolation p*(p)\n",
    "    p_list = np.arange(0,1,p_step)\n",
    "\n",
    "    perc = {prb: 1 for prb in p_list}\n",
    "    for prb in tqdm(p_list):\n",
    "        percolation_p = percolation(prb,size,mc)\n",
    "        if percolation_p == 1:\n",
    "            break\n",
    "        perc[prb] = percolation_p\n",
    "\n",
    "    plt.figure(figsize=(10,5))\n",
    "    plt.scatter(perc.keys(), perc.values())\n",
    "    plt.title(f'percolation of p, for {mc_steps} monte carlo steps, lattice {size}x{size}')\n",
    "    plt.xlabel('p')\n",
    "    plt.ylabel('p*')\n",
    "    plt.show()"
   ],
   "metadata": {
    "collapsed": false,
    "pycharm": {
     "name": "#%%\n"
    }
   }
  },
  {
   "cell_type": "code",
   "execution_count": 18,
   "outputs": [
    {
     "name": "stderr",
     "output_type": "stream",
     "text": [
      " 54%|█████▍    | 27/50 [00:36<00:30,  1.34s/it]\n"
     ]
    },
    {
     "data": {
      "text/plain": "<Figure size 720x360 with 1 Axes>",
      "image/png": "[encoded data removed]"
     },
     "metadata": {
      "needs_background": "light"
     },
     "output_type": "display_data"
    }
   ],
   "source": [
    "# percolation p*(p)\n",
    "size = 20\n",
    "mc_steps=100\n",
    "plot_percolation(size=size, mc_steps=mc_steps)\n"
   ],
   "metadata": {
    "collapsed": false,
    "pycharm": {
     "name": "#%%\n"
    }
   }
  },
  {
   "cell_type": "code",
   "execution_count": 19,
   "outputs": [
    {
     "name": "stderr",
     "output_type": "stream",
     "text": [
      " 50%|█████     | 25/50 [13:26<13:26, 32.27s/it] \n"
     ]
    },
    {
     "data": {
      "text/plain": "<Figure size 720x360 with 1 Axes>",
      "image/png": "[encoded data removed]"
     },
     "metadata": {
      "needs_background": "light"
     },
     "output_type": "display_data"
    }
   ],
   "source": [
    "# percolation p*(p)\n",
    "size = 50\n",
    "mc_steps=100\n",
    "plot_percolation(size=size, mc_steps=mc_steps)\n"
   ],
   "metadata": {
    "collapsed": false,
    "pycharm": {
     "name": "#%%\n"
    }
   }
  },
  {
   "cell_type": "code",
   "execution_count": null,
   "outputs": [],
   "source": [
    "# percolation p*(p)\n",
    "size = 100\n",
    "mc=100\n",
    "p_list = np.arange(0,0.81,0.02)\n",
    "\n",
    "perc = dict()\n",
    "for p in tqdm(p_list):\n",
    "    perc[p] = percolation(p,size,mc)\n",
    "\n",
    "plt.figure(figsize=(10,5))\n",
    "plt.scatter(perc.keys(), perc.values())\n",
    "plt.title(f'percolation of p, for {mc} monte carlo steps, lattice {size}x{size}')\n",
    "plt.xlabel('p')\n",
    "plt.ylabel('p*')\n",
    "plt.show()"
   ],
   "metadata": {
    "collapsed": false,
    "pycharm": {
     "name": "#%%\n"
    }
   }
  },
  {
   "cell_type": "code",
   "execution_count": 7,
   "outputs": [
    {
     "name": "stderr",
     "output_type": "stream",
     "text": [
      "100%|██████████| 10000000/10000000 [00:01<00:00, 6493148.78it/s]\n"
     ]
    }
   ],
   "source": [
    "for i in tqdm(range(10000000)):\n",
    "    a = 1\n",
    "    pass\n"
   ],
   "metadata": {
    "collapsed": false,
    "pycharm": {
     "name": "#%%\n"
    }
   }
  },
  {
   "cell_type": "code",
   "execution_count": null,
   "outputs": [],
   "source": [
    "# zad 2\n",
    "from scipy.ndimage import measurements\n",
    "\n",
    "# zad 1 - plt imshow\n",
    "# gif: imageio"
   ],
   "metadata": {
    "collapsed": false,
    "pycharm": {
     "name": "#%%\n"
    }
   }
  }
 ],
 "metadata": {
  "kernelspec": {
   "display_name": "Python 3",
   "language": "python",
   "name": "python3"
  },
  "language_info": {
   "codemirror_mode": {
    "name": "ipython",
    "version": 2
   },
   "file_extension": ".py",
   "mimetype": "text/x-python",
   "name": "python",
   "nbconvert_exporter": "python",
   "pygments_lexer": "ipython2",
   "version": "2.7.6"
  }
 },
 "nbformat": 4,
 "nbformat_minor": 0
}